{
 "cells": [
  {
   "cell_type": "code",
   "execution_count": 10,
   "metadata": {},
   "outputs": [],
   "source": [
    "import pandas as pd\n",
    "import numpy as np\n",
    "import matplotlib.pyplot as plt"
   ]
  },
  {
   "cell_type": "code",
   "execution_count": 11,
   "metadata": {},
   "outputs": [
    {
     "name": "stdout",
     "output_type": "stream",
     "text": [
      "/container_dir/GauravPks/OADS\n"
     ]
    }
   ],
   "source": [
    "!pwd"
   ]
  },
  {
   "cell_type": "code",
   "execution_count": 39,
   "metadata": {},
   "outputs": [],
   "source": [
    "df = pd.read_csv('unit2.csv')"
   ]
  },
  {
   "cell_type": "code",
   "execution_count": 15,
   "metadata": {},
   "outputs": [
    {
     "name": "stdout",
     "output_type": "stream",
     "text": [
      "<class 'pandas.core.frame.DataFrame'>\n",
      "RangeIndex: 2793 entries, 0 to 2792\n",
      "Data columns (total 17 columns):\n",
      " #   Column                                            Non-Null Count  Dtype  \n",
      "---  ------                                            --------------  -----  \n",
      " 0   Employee ID                                       2793 non-null   object \n",
      " 1   Data Effective Date                               2793 non-null   object \n",
      " 2   Employee\n",
      "Status\n",
      "                                  2793 non-null   object \n",
      " 3   Career Level \n",
      "(1=lowest, 6=highest)\n",
      "              2793 non-null   int64  \n",
      " 4   Hired Date                                        2793 non-null   object \n",
      " 5   Hired in FY\n",
      "(Yes/No)                              2793 non-null   object \n",
      " 6   Termination Date                                  613 non-null    object \n",
      " 7   Terminated\n",
      "in FY\n",
      "(Yes/No)                         2793 non-null   object \n",
      " 8   Termination Type\n",
      "(Voluntary or Involuntary Exit)  613 non-null    object \n",
      " 9   Job Start Date                                    2793 non-null   object \n",
      " 10  Promoted\n",
      "in FY\n",
      "(Yes/No)                           2448 non-null   object \n",
      " 11  Birth Date                                        2793 non-null   object \n",
      " 12  Age\n",
      "(Years)                                       0 non-null      float64\n",
      " 13  Tenure\n",
      "(Years)                                    0 non-null      float64\n",
      " 14  Time in\n",
      "Job (Years)                               0 non-null      float64\n",
      " 15  Rating\n",
      "(1=lowest, 5=highest)                      2793 non-null   int64  \n",
      " 16  Education\n",
      "(Highest\n",
      "Degree)                        2793 non-null   object \n",
      "dtypes: float64(3), int64(2), object(12)\n",
      "memory usage: 371.1+ KB\n"
     ]
    }
   ],
   "source": [
    "df.info()"
   ]
  },
  {
   "cell_type": "code",
   "execution_count": 40,
   "metadata": {},
   "outputs": [],
   "source": [
    "df.columns = ['EmpId', 'DataEDate', 'EmpStatus', 'CarrerLevel', 'HiredDate', 'HiredInFY','TerminationDate', 'TerminationInFY','TerminationType','JobStDate','PromotedInFY','BirthDate','Age','TenureInY','TimeInJob','Rating','Education']"
   ]
  },
  {
   "cell_type": "code",
   "execution_count": 26,
   "metadata": {},
   "outputs": [
    {
     "data": {
      "text/plain": [
       "EmpId                 0\n",
       "DataEDate             0\n",
       "EmpStatus             0\n",
       "CarrerLevel           0\n",
       "HiredDate             0\n",
       "HiredInFY             0\n",
       "TerminationDate    2180\n",
       "TerminationInFY       0\n",
       "TerminationType    2180\n",
       "JobStDate             0\n",
       "PromotedInFY        345\n",
       "BirthDate             0\n",
       "Age                2793\n",
       "TenureInY          2793\n",
       "TimeInJob          2793\n",
       "Rating                0\n",
       "Education             0\n",
       "dtype: int64"
      ]
     },
     "execution_count": 26,
     "metadata": {},
     "output_type": "execute_result"
    }
   ],
   "source": [
    "df.isnull().sum()"
   ]
  },
  {
   "cell_type": "code",
   "execution_count": 41,
   "metadata": {},
   "outputs": [
    {
     "data": {
      "text/html": [
       "<div>\n",
       "<style scoped>\n",
       "    .dataframe tbody tr th:only-of-type {\n",
       "        vertical-align: middle;\n",
       "    }\n",
       "\n",
       "    .dataframe tbody tr th {\n",
       "        vertical-align: top;\n",
       "    }\n",
       "\n",
       "    .dataframe thead th {\n",
       "        text-align: right;\n",
       "    }\n",
       "</style>\n",
       "<table border=\"1\" class=\"dataframe\">\n",
       "  <thead>\n",
       "    <tr style=\"text-align: right;\">\n",
       "      <th></th>\n",
       "      <th>EmpId</th>\n",
       "      <th>DataEDate</th>\n",
       "      <th>EmpStatus</th>\n",
       "      <th>CarrerLevel</th>\n",
       "      <th>HiredDate</th>\n",
       "      <th>HiredInFY</th>\n",
       "      <th>TerminationDate</th>\n",
       "      <th>TerminationInFY</th>\n",
       "      <th>TerminationType</th>\n",
       "      <th>JobStDate</th>\n",
       "      <th>PromotedInFY</th>\n",
       "      <th>BirthDate</th>\n",
       "      <th>Age</th>\n",
       "      <th>TenureInY</th>\n",
       "      <th>TimeInJob</th>\n",
       "      <th>Rating</th>\n",
       "      <th>Education</th>\n",
       "    </tr>\n",
       "  </thead>\n",
       "  <tbody>\n",
       "    <tr>\n",
       "      <th>0</th>\n",
       "      <td>N0001</td>\n",
       "      <td>31-12-2016</td>\n",
       "      <td>Active</td>\n",
       "      <td>1</td>\n",
       "      <td>19-04-2016</td>\n",
       "      <td>Yes</td>\n",
       "      <td>NaN</td>\n",
       "      <td>No</td>\n",
       "      <td>NaN</td>\n",
       "      <td>19-04-2016</td>\n",
       "      <td>NaN</td>\n",
       "      <td>01-09-1995</td>\n",
       "      <td>NaN</td>\n",
       "      <td>NaN</td>\n",
       "      <td>NaN</td>\n",
       "      <td>3</td>\n",
       "      <td>MA/MS</td>\n",
       "    </tr>\n",
       "    <tr>\n",
       "      <th>1</th>\n",
       "      <td>N0002</td>\n",
       "      <td>31-12-2016</td>\n",
       "      <td>Active</td>\n",
       "      <td>1</td>\n",
       "      <td>19-10-2016</td>\n",
       "      <td>Yes</td>\n",
       "      <td>NaN</td>\n",
       "      <td>No</td>\n",
       "      <td>NaN</td>\n",
       "      <td>19-10-2016</td>\n",
       "      <td>NaN</td>\n",
       "      <td>13-09-1994</td>\n",
       "      <td>NaN</td>\n",
       "      <td>NaN</td>\n",
       "      <td>NaN</td>\n",
       "      <td>4</td>\n",
       "      <td>MA/MS</td>\n",
       "    </tr>\n",
       "    <tr>\n",
       "      <th>2</th>\n",
       "      <td>N0003</td>\n",
       "      <td>31-12-2016</td>\n",
       "      <td>Active</td>\n",
       "      <td>1</td>\n",
       "      <td>26-05-2016</td>\n",
       "      <td>Yes</td>\n",
       "      <td>NaN</td>\n",
       "      <td>No</td>\n",
       "      <td>NaN</td>\n",
       "      <td>26-05-2016</td>\n",
       "      <td>NaN</td>\n",
       "      <td>19-04-1996</td>\n",
       "      <td>NaN</td>\n",
       "      <td>NaN</td>\n",
       "      <td>NaN</td>\n",
       "      <td>3</td>\n",
       "      <td>BA/BS</td>\n",
       "    </tr>\n",
       "    <tr>\n",
       "      <th>3</th>\n",
       "      <td>N0004</td>\n",
       "      <td>31-12-2016</td>\n",
       "      <td>Active</td>\n",
       "      <td>1</td>\n",
       "      <td>19-10-2016</td>\n",
       "      <td>Yes</td>\n",
       "      <td>NaN</td>\n",
       "      <td>No</td>\n",
       "      <td>NaN</td>\n",
       "      <td>19-10-2016</td>\n",
       "      <td>NaN</td>\n",
       "      <td>21-01-1994</td>\n",
       "      <td>NaN</td>\n",
       "      <td>NaN</td>\n",
       "      <td>NaN</td>\n",
       "      <td>3</td>\n",
       "      <td>BA/BS</td>\n",
       "    </tr>\n",
       "    <tr>\n",
       "      <th>4</th>\n",
       "      <td>N0005</td>\n",
       "      <td>31-12-2016</td>\n",
       "      <td>Active</td>\n",
       "      <td>1</td>\n",
       "      <td>06-02-2016</td>\n",
       "      <td>Yes</td>\n",
       "      <td>NaN</td>\n",
       "      <td>No</td>\n",
       "      <td>NaN</td>\n",
       "      <td>06-02-2016</td>\n",
       "      <td>NaN</td>\n",
       "      <td>18-05-1993</td>\n",
       "      <td>NaN</td>\n",
       "      <td>NaN</td>\n",
       "      <td>NaN</td>\n",
       "      <td>3</td>\n",
       "      <td>BA/BS</td>\n",
       "    </tr>\n",
       "  </tbody>\n",
       "</table>\n",
       "</div>"
      ],
      "text/plain": [
       "   EmpId   DataEDate EmpStatus  CarrerLevel   HiredDate HiredInFY  \\\n",
       "0  N0001  31-12-2016    Active            1  19-04-2016       Yes   \n",
       "1  N0002  31-12-2016    Active            1  19-10-2016       Yes   \n",
       "2  N0003  31-12-2016    Active            1  26-05-2016       Yes   \n",
       "3  N0004  31-12-2016    Active            1  19-10-2016       Yes   \n",
       "4  N0005  31-12-2016    Active            1  06-02-2016       Yes   \n",
       "\n",
       "  TerminationDate TerminationInFY TerminationType   JobStDate PromotedInFY  \\\n",
       "0             NaN              No             NaN  19-04-2016          NaN   \n",
       "1             NaN              No             NaN  19-10-2016          NaN   \n",
       "2             NaN              No             NaN  26-05-2016          NaN   \n",
       "3             NaN              No             NaN  19-10-2016          NaN   \n",
       "4             NaN              No             NaN  06-02-2016          NaN   \n",
       "\n",
       "    BirthDate  Age  TenureInY  TimeInJob  Rating Education  \n",
       "0  01-09-1995  NaN        NaN        NaN       3     MA/MS  \n",
       "1  13-09-1994  NaN        NaN        NaN       4     MA/MS  \n",
       "2  19-04-1996  NaN        NaN        NaN       3     BA/BS  \n",
       "3  21-01-1994  NaN        NaN        NaN       3     BA/BS  \n",
       "4  18-05-1993  NaN        NaN        NaN       3     BA/BS  "
      ]
     },
     "execution_count": 41,
     "metadata": {},
     "output_type": "execute_result"
    }
   ],
   "source": [
    "df.head()"
   ]
  },
  {
   "cell_type": "code",
   "execution_count": 42,
   "metadata": {},
   "outputs": [],
   "source": [
    "df['BirthDate'] = pd.to_datetime(df['BirthDate'])\n",
    "df['DataEDate'] = pd.to_datetime(df['DataEDate'])\n",
    "df['JobStDate'] = pd.to_datetime(df['JobStDate'])\n",
    "df['HiredDate'] = pd.to_datetime(df['HiredDate'])\n",
    "df['TerminationDate'] = pd.to_datetime(df['TerminationDate'])"
   ]
  },
  {
   "cell_type": "code",
   "execution_count": 43,
   "metadata": {},
   "outputs": [],
   "source": [
    "df['Age'] = (df['DataEDate'] - df['BirthDate'])\n",
    "df['Age'] = round((df['Age'].astype('timedelta64[D]'))/365,1)"
   ]
  },
  {
   "cell_type": "code",
   "execution_count": 44,
   "metadata": {},
   "outputs": [],
   "source": [
    "df['NewTerminationDate'] = df['TerminationDate'].fillna(df['DataEDate'])\n",
    "df['NewTerminationDate'] = pd.to_datetime(df['NewTerminationDate'])\n",
    "\n",
    "df['TenureInY'] = (df['NewTerminationDate'] - df['HiredDate'])\n",
    "df['TenureInY'] = round((df['TenureInY'].astype('timedelta64[D]'))/365,1)\n",
    "\n",
    "df['TimeInJob'] = (df['NewTerminationDate'] - df['JobStDate'])\n",
    "df['TimeInJob'] = round((df['TimeInJob'].astype('timedelta64[D]'))/365,1)\n",
    "\n",
    "df.drop('NewTerminationDate', axis='columns', inplace=True)"
   ]
  },
  {
   "cell_type": "code",
   "execution_count": 179,
   "metadata": {},
   "outputs": [
    {
     "data": {
      "text/plain": [
       "EmpId                  0\n",
       "DataEDate              0\n",
       "EmpStatus              0\n",
       "CarrerLevel            0\n",
       "HiredDate              0\n",
       "HiredInFY              0\n",
       "TerminationDate     5920\n",
       "TerminationInFY        0\n",
       "TerminationType     5920\n",
       "JobStDate              0\n",
       "PromotedInFY        1035\n",
       "BirthDate              0\n",
       "Age                    0\n",
       "TenureInY              0\n",
       "TimeInJob              0\n",
       "Rating                 0\n",
       "Education              0\n",
       "TerminationYear     5920\n",
       "TerminationMonth    5920\n",
       "dtype: int64"
      ]
     },
     "execution_count": 179,
     "metadata": {},
     "output_type": "execute_result"
    }
   ],
   "source": [
    "df.isnull().sum()"
   ]
  },
  {
   "cell_type": "code",
   "execution_count": 45,
   "metadata": {},
   "outputs": [],
   "source": [
    "df['TerminationYear'] = df['TerminationDate'].apply(lambda x : x.year)\n",
    "df['TerminationMonth'] = df['TerminationDate'].apply(lambda x : x.month)"
   ]
  },
  {
   "cell_type": "markdown",
   "metadata": {},
   "source": [
    "Employee Distribution- Carrer Level Wise"
   ]
  },
  {
   "cell_type": "code",
   "execution_count": 46,
   "metadata": {},
   "outputs": [
    {
     "data": {
      "text/plain": [
       "2    29.0\n",
       "3    23.0\n",
       "4    18.0\n",
       "1    14.0\n",
       "5    11.0\n",
       "6     5.0\n",
       "Name: CarrerLevel, dtype: float64"
      ]
     },
     "execution_count": 46,
     "metadata": {},
     "output_type": "execute_result"
    }
   ],
   "source": [
    "df_new = df[df.TerminationDate.isnull()]\n",
    "CarrerLevel_cnt =np.round((df_new['CarrerLevel'].value_counts(normalize=True)* 100 ))\n",
    "CarrerLevel_cnt"
   ]
  },
  {
   "cell_type": "code",
   "execution_count": 47,
   "metadata": {},
   "outputs": [
    {
     "data": {
      "image/png": "[encoded data removed]",
      "text/plain": [
       "<Figure size 720x360 with 1 Axes>"
      ]
     },
     "metadata": {
      "needs_background": "light"
     },
     "output_type": "display_data"
    }
   ],
   "source": [
    "fig = plt.figure(figsize = (10, 5)) \n",
    "plt.bar(CarrerLevel_cnt.keys().values, CarrerLevel_cnt.to_numpy(), color ='red',  \n",
    "        width = 0.4) \n",
    "plt.xlabel(\"CarrerLevel\") \n",
    "plt.ylabel(\"% of Employee\") \n",
    "plt.title(\"Employee Distribution- Carrer Level Wise\") \n",
    "plt.show()"
   ]
  },
  {
   "cell_type": "code",
   "execution_count": 48,
   "metadata": {},
   "outputs": [
    {
     "data": {
      "image/png": "[encoded data removed]",
      "text/plain": [
       "<Figure size 432x288 with 1 Axes>"
      ]
     },
     "metadata": {},
     "output_type": "display_data"
    }
   ],
   "source": [
    "plt.pie(CarrerLevel_cnt.to_numpy(), labels = CarrerLevel_cnt.keys().values) \n",
    "plt.title(\"Employee Distribution- Carrer Level Wise\")  \n",
    "# show plot \n",
    "plt.show()"
   ]
  },
  {
   "cell_type": "code",
   "execution_count": 55,
   "metadata": {},
   "outputs": [
    {
     "data": {
      "text/html": [
       "<div>\n",
       "<style scoped>\n",
       "    .dataframe tbody tr th:only-of-type {\n",
       "        vertical-align: middle;\n",
       "    }\n",
       "\n",
       "    .dataframe tbody tr th {\n",
       "        vertical-align: top;\n",
       "    }\n",
       "\n",
       "    .dataframe thead th {\n",
       "        text-align: right;\n",
       "    }\n",
       "</style>\n",
       "<table border=\"1\" class=\"dataframe\">\n",
       "  <thead>\n",
       "    <tr style=\"text-align: right;\">\n",
       "      <th>Rating</th>\n",
       "      <th>3</th>\n",
       "      <th>4</th>\n",
       "      <th>5</th>\n",
       "    </tr>\n",
       "    <tr>\n",
       "      <th>CarrerLevel</th>\n",
       "      <th></th>\n",
       "      <th></th>\n",
       "      <th></th>\n",
       "    </tr>\n",
       "  </thead>\n",
       "  <tbody>\n",
       "    <tr>\n",
       "      <th>1</th>\n",
       "      <td>65.0</td>\n",
       "      <td>35.0</td>\n",
       "      <td>NaN</td>\n",
       "    </tr>\n",
       "    <tr>\n",
       "      <th>2</th>\n",
       "      <td>43.0</td>\n",
       "      <td>34.0</td>\n",
       "      <td>23.0</td>\n",
       "    </tr>\n",
       "    <tr>\n",
       "      <th>3</th>\n",
       "      <td>18.0</td>\n",
       "      <td>32.0</td>\n",
       "      <td>50.0</td>\n",
       "    </tr>\n",
       "    <tr>\n",
       "      <th>4</th>\n",
       "      <td>16.0</td>\n",
       "      <td>46.0</td>\n",
       "      <td>38.0</td>\n",
       "    </tr>\n",
       "    <tr>\n",
       "      <th>5</th>\n",
       "      <td>7.0</td>\n",
       "      <td>61.0</td>\n",
       "      <td>32.0</td>\n",
       "    </tr>\n",
       "    <tr>\n",
       "      <th>6</th>\n",
       "      <td>NaN</td>\n",
       "      <td>80.0</td>\n",
       "      <td>20.0</td>\n",
       "    </tr>\n",
       "  </tbody>\n",
       "</table>\n",
       "</div>"
      ],
      "text/plain": [
       "Rating          3     4     5\n",
       "CarrerLevel                  \n",
       "1            65.0  35.0   NaN\n",
       "2            43.0  34.0  23.0\n",
       "3            18.0  32.0  50.0\n",
       "4            16.0  46.0  38.0\n",
       "5             7.0  61.0  32.0\n",
       "6             NaN  80.0  20.0"
      ]
     },
     "execution_count": 55,
     "metadata": {},
     "output_type": "execute_result"
    }
   ],
   "source": [
    "df_new = df[df.TerminationDate.isnull()]\n",
    "\n",
    "f = lambda x : np.round(x/x.sum() * 100)\n",
    "con_sector = df_new.groupby(['CarrerLevel', 'Rating'])['CarrerLevel'].count().unstack().apply(f, axis=1)\n",
    "con_sector"
   ]
  },
  {
   "cell_type": "code",
   "execution_count": 57,
   "metadata": {},
   "outputs": [
    {
     "data": {
      "image/png": "[encoded data removed]",
      "text/plain": [
       "<Figure size 1152x576 with 1 Axes>"
      ]
     },
     "metadata": {
      "needs_background": "light"
     },
     "output_type": "display_data"
    }
   ],
   "source": [
    "fig = plt.figure(figsize = (16, 8))\n",
    "# set width of bar\n",
    "barWidth = 0.1\n",
    "# set height of bar\n",
    "bars1 = con_sector.to_numpy()[:,0]\n",
    "bars2 = con_sector.to_numpy()[:,1]\n",
    "bars3 = con_sector.to_numpy()[:,2]\n",
    "\n",
    "\n",
    "\n",
    "\n",
    "# Set position of bar on X axis\n",
    "r1 = np.arange(len(bars1))\n",
    "r2 = [x + barWidth for x in r1]\n",
    "r3 = [x + barWidth for x in r2]\n",
    "\n",
    "\n",
    "\n",
    "# Make the plot\n",
    "plt.bar(r1, bars1, color='red', width=barWidth, edgecolor='white', label=\"At Target\")\n",
    "plt.bar(r2, bars2, color='green', width=barWidth, edgecolor='white', label=\"Above Target\")\n",
    "plt.bar(r3, bars3, color='blue', width=barWidth, edgecolor='white', label=\"Significently Above Target\")\n",
    "\n",
    "\n",
    " \n",
    "# Add xticks on the middle of the group bars\n",
    "#plt.xlabel('Country', fontweight='bold')\n",
    "plt.xticks([r + barWidth for r in range(len(bars1))], ('1','2','3','4','5',6))\n",
    " \n",
    "# Create legend & Show graphic\n",
    "plt.legend()\n",
    "plt.show()"
   ]
  },
  {
   "cell_type": "code",
   "execution_count": 58,
   "metadata": {},
   "outputs": [
    {
     "data": {
      "text/plain": [
       "4    33.0\n",
       "2    26.0\n",
       "3    24.0\n",
       "5     8.0\n",
       "1     7.0\n",
       "6     2.0\n",
       "Name: CarrerLevel, dtype: float64"
      ]
     },
     "execution_count": 58,
     "metadata": {},
     "output_type": "execute_result"
    }
   ],
   "source": [
    "bool_series = pd.notnull(df[\"TerminationDate\"])\n",
    "df_new = df[bool_series]\n",
    "TerminationLevel_cnt =np.round((df_new['CarrerLevel'].value_counts(normalize=True)* 100 ))\n",
    "TerminationLevel_cnt"
   ]
  },
  {
   "cell_type": "code",
   "execution_count": 59,
   "metadata": {},
   "outputs": [
    {
     "data": {
      "text/plain": [
       "EmpId               613\n",
       "DataEDate           613\n",
       "EmpStatus           613\n",
       "CarrerLevel         613\n",
       "HiredDate           613\n",
       "HiredInFY           613\n",
       "TerminationDate     613\n",
       "TerminationInFY     613\n",
       "TerminationType     613\n",
       "JobStDate           613\n",
       "PromotedInFY        568\n",
       "BirthDate           613\n",
       "Age                 613\n",
       "TenureInY           613\n",
       "TimeInJob           613\n",
       "Rating              613\n",
       "Education           613\n",
       "TerminationYear     613\n",
       "TerminationMonth    613\n",
       "dtype: int64"
      ]
     },
     "execution_count": 59,
     "metadata": {},
     "output_type": "execute_result"
    }
   ],
   "source": [
    "df_new.count()"
   ]
  },
  {
   "cell_type": "code",
   "execution_count": 63,
   "metadata": {},
   "outputs": [
    {
     "data": {
      "image/png": "[encoded data removed]",
      "text/plain": [
       "<Figure size 720x360 with 1 Axes>"
      ]
     },
     "metadata": {
      "needs_background": "light"
     },
     "output_type": "display_data"
    }
   ],
   "source": [
    "fig = plt.figure(figsize = (10, 5)) \n",
    "plt.bar(TerminationLevel_cnt.keys().values, TerminationLevel_cnt.to_numpy(), color ='red',  \n",
    "        width = 0.4) \n",
    "plt.xlabel(\"CarrerLevel\") \n",
    "plt.ylabel(\"% of Employee\") \n",
    "plt.title(\"Employee Termination- Carrer Level Wise\") \n",
    "plt.show()"
   ]
  },
  {
   "cell_type": "code",
   "execution_count": 60,
   "metadata": {},
   "outputs": [
    {
     "data": {
      "text/html": [
       "<div>\n",
       "<style scoped>\n",
       "    .dataframe tbody tr th:only-of-type {\n",
       "        vertical-align: middle;\n",
       "    }\n",
       "\n",
       "    .dataframe tbody tr th {\n",
       "        vertical-align: top;\n",
       "    }\n",
       "\n",
       "    .dataframe thead th {\n",
       "        text-align: right;\n",
       "    }\n",
       "</style>\n",
       "<table border=\"1\" class=\"dataframe\">\n",
       "  <thead>\n",
       "    <tr style=\"text-align: right;\">\n",
       "      <th>Rating</th>\n",
       "      <th>1</th>\n",
       "      <th>2</th>\n",
       "      <th>3</th>\n",
       "    </tr>\n",
       "    <tr>\n",
       "      <th>CarrerLevel</th>\n",
       "      <th></th>\n",
       "      <th></th>\n",
       "      <th></th>\n",
       "    </tr>\n",
       "  </thead>\n",
       "  <tbody>\n",
       "    <tr>\n",
       "      <th>1</th>\n",
       "      <td>9.0</td>\n",
       "      <td>91.0</td>\n",
       "      <td>NaN</td>\n",
       "    </tr>\n",
       "    <tr>\n",
       "      <th>2</th>\n",
       "      <td>7.0</td>\n",
       "      <td>89.0</td>\n",
       "      <td>4.0</td>\n",
       "    </tr>\n",
       "    <tr>\n",
       "      <th>3</th>\n",
       "      <td>3.0</td>\n",
       "      <td>91.0</td>\n",
       "      <td>5.0</td>\n",
       "    </tr>\n",
       "    <tr>\n",
       "      <th>4</th>\n",
       "      <td>NaN</td>\n",
       "      <td>67.0</td>\n",
       "      <td>33.0</td>\n",
       "    </tr>\n",
       "    <tr>\n",
       "      <th>5</th>\n",
       "      <td>NaN</td>\n",
       "      <td>70.0</td>\n",
       "      <td>30.0</td>\n",
       "    </tr>\n",
       "    <tr>\n",
       "      <th>6</th>\n",
       "      <td>NaN</td>\n",
       "      <td>50.0</td>\n",
       "      <td>50.0</td>\n",
       "    </tr>\n",
       "  </tbody>\n",
       "</table>\n",
       "</div>"
      ],
      "text/plain": [
       "Rating         1     2     3\n",
       "CarrerLevel                 \n",
       "1            9.0  91.0   NaN\n",
       "2            7.0  89.0   4.0\n",
       "3            3.0  91.0   5.0\n",
       "4            NaN  67.0  33.0\n",
       "5            NaN  70.0  30.0\n",
       "6            NaN  50.0  50.0"
      ]
     },
     "execution_count": 60,
     "metadata": {},
     "output_type": "execute_result"
    }
   ],
   "source": [
    "bool_series = pd.notnull(df[\"TerminationDate\"])\n",
    "df_new = df[bool_series]\n",
    "f = lambda x : np.round(x/x.sum() * 100)\n",
    "con_sector = df_new.groupby(['CarrerLevel', 'Rating'])['CarrerLevel'].count().unstack().apply(f, axis=1)\n",
    "con_sector"
   ]
  },
  {
   "cell_type": "code",
   "execution_count": 62,
   "metadata": {},
   "outputs": [
    {
     "data": {
      "image/png": "[encoded data removed]",
      "text/plain": [
       "<Figure size 1152x576 with 1 Axes>"
      ]
     },
     "metadata": {
      "needs_background": "light"
     },
     "output_type": "display_data"
    }
   ],
   "source": [
    "fig = plt.figure(figsize = (16, 8))\n",
    "# set width of bar\n",
    "barWidth = 0.1\n",
    "# set height of bar\n",
    "bars1 = con_sector.to_numpy()[:,0]\n",
    "bars2 = con_sector.to_numpy()[:,1]\n",
    "bars3 = con_sector.to_numpy()[:,2]\n",
    "\n",
    "\n",
    "\n",
    "# Set position of bar on X axis\n",
    "r1 = np.arange(len(bars1))\n",
    "r2 = [x + barWidth for x in r1]\n",
    "r3 = [x + barWidth for x in r2]\n",
    "\n",
    "\n",
    "\n",
    "\n",
    "# Make the plot\n",
    "plt.bar(r1, bars1, color='red', width=barWidth, edgecolor='white', label='Significantly Below Target')\n",
    "plt.bar(r2, bars2, color='green', width=barWidth, edgecolor='white', label='Below Target')\n",
    "plt.bar(r3, bars3, color='blue', width=barWidth, edgecolor='white', label='At Target')\n",
    "\n",
    "\n",
    " \n",
    "# Add xticks on the middle of the group bars\n",
    "#plt.xlabel('Country', fontweight='bold')\n",
    "plt.xticks([r + barWidth for r in range(len(bars1))], ('1','2','3','4','5',6))\n",
    " \n",
    "# Create legend & Show graphic\n",
    "plt.legend()\n",
    "plt.show()"
   ]
  },
  {
   "cell_type": "code",
   "execution_count": 65,
   "metadata": {},
   "outputs": [
    {
     "data": {
      "text/plain": [
       "Involuntary Exit    63.0\n",
       "Voluntary Exit      37.0\n",
       "Name: TerminationType, dtype: float64"
      ]
     },
     "execution_count": 65,
     "metadata": {},
     "output_type": "execute_result"
    }
   ],
   "source": [
    "TerminationType_cnt =np.round((df_new['TerminationType'].value_counts(normalize=True)* 100 ))\n",
    "TerminationType_cnt"
   ]
  },
  {
   "cell_type": "code",
   "execution_count": 66,
   "metadata": {},
   "outputs": [
    {
     "data": {
      "image/png": "[encoded data removed]",
      "text/plain": [
       "<Figure size 720x360 with 1 Axes>"
      ]
     },
     "metadata": {
      "needs_background": "light"
     },
     "output_type": "display_data"
    }
   ],
   "source": [
    "fig = plt.figure(figsize = (10, 5)) \n",
    "plt.bar(TerminationType_cnt.keys().values, TerminationType_cnt.to_numpy(), color ='red',  \n",
    "        width = 0.4) \n",
    "plt.xlabel(\"Termination Type\") \n",
    "plt.ylabel(\"% of Employee\") \n",
    "plt.title(\"Employee Termination- Type Wise\") \n",
    "plt.show()"
   ]
  },
  {
   "cell_type": "code",
   "execution_count": null,
   "metadata": {},
   "outputs": [],
   "source": []
  },
  {
   "cell_type": "code",
   "execution_count": 79,
   "metadata": {},
   "outputs": [
    {
     "data": {
      "text/plain": [
       "No     78.0\n",
       "Yes    22.0\n",
       "Name: TerminationInFY, dtype: float64"
      ]
     },
     "execution_count": 79,
     "metadata": {},
     "output_type": "execute_result"
    }
   ],
   "source": [
    "TerminationInFY_cnt =np.round((df['TerminationInFY'].value_counts(normalize=True)* 100 ))\n",
    "TerminationInFY_cnt"
   ]
  },
  {
   "cell_type": "code",
   "execution_count": 82,
   "metadata": {},
   "outputs": [
    {
     "data": {
      "text/html": [
       "<div>\n",
       "<style scoped>\n",
       "    .dataframe tbody tr th:only-of-type {\n",
       "        vertical-align: middle;\n",
       "    }\n",
       "\n",
       "    .dataframe tbody tr th {\n",
       "        vertical-align: top;\n",
       "    }\n",
       "\n",
       "    .dataframe thead th {\n",
       "        text-align: right;\n",
       "    }\n",
       "</style>\n",
       "<table border=\"1\" class=\"dataframe\">\n",
       "  <thead>\n",
       "    <tr style=\"text-align: right;\">\n",
       "      <th>TerminationInFY</th>\n",
       "      <th>No</th>\n",
       "      <th>Yes</th>\n",
       "    </tr>\n",
       "    <tr>\n",
       "      <th>CarrerLevel</th>\n",
       "      <th></th>\n",
       "      <th></th>\n",
       "    </tr>\n",
       "  </thead>\n",
       "  <tbody>\n",
       "    <tr>\n",
       "      <th>1</th>\n",
       "      <td>87.0</td>\n",
       "      <td>13.0</td>\n",
       "    </tr>\n",
       "    <tr>\n",
       "      <th>2</th>\n",
       "      <td>80.0</td>\n",
       "      <td>20.0</td>\n",
       "    </tr>\n",
       "    <tr>\n",
       "      <th>3</th>\n",
       "      <td>77.0</td>\n",
       "      <td>23.0</td>\n",
       "    </tr>\n",
       "    <tr>\n",
       "      <th>4</th>\n",
       "      <td>67.0</td>\n",
       "      <td>33.0</td>\n",
       "    </tr>\n",
       "    <tr>\n",
       "      <th>5</th>\n",
       "      <td>83.0</td>\n",
       "      <td>17.0</td>\n",
       "    </tr>\n",
       "    <tr>\n",
       "      <th>6</th>\n",
       "      <td>91.0</td>\n",
       "      <td>9.0</td>\n",
       "    </tr>\n",
       "  </tbody>\n",
       "</table>\n",
       "</div>"
      ],
      "text/plain": [
       "TerminationInFY    No   Yes\n",
       "CarrerLevel                \n",
       "1                87.0  13.0\n",
       "2                80.0  20.0\n",
       "3                77.0  23.0\n",
       "4                67.0  33.0\n",
       "5                83.0  17.0\n",
       "6                91.0   9.0"
      ]
     },
     "execution_count": 82,
     "metadata": {},
     "output_type": "execute_result"
    }
   ],
   "source": [
    "f = lambda x : np.round(x/x.sum() * 100)\n",
    "con_term = df.groupby(['CarrerLevel', 'TerminationInFY'])['TerminationInFY'].count().unstack().apply(f, axis=1)\n",
    "con_term"
   ]
  },
  {
   "cell_type": "raw",
   "metadata": {},
   "source": [
    "Promotion Analysis"
   ]
  },
  {
   "cell_type": "code",
   "execution_count": 75,
   "metadata": {},
   "outputs": [
    {
     "data": {
      "text/plain": [
       "No     73.0\n",
       "Yes    27.0\n",
       "Name: PromotedInFY, dtype: float64"
      ]
     },
     "execution_count": 75,
     "metadata": {},
     "output_type": "execute_result"
    }
   ],
   "source": [
    "PromotedInFY_cnt =np.round((df['PromotedInFY'].value_counts(normalize=True)* 100 ))\n",
    "PromotedInFY_cnt"
   ]
  },
  {
   "cell_type": "code",
   "execution_count": 81,
   "metadata": {},
   "outputs": [
    {
     "data": {
      "text/html": [
       "<div>\n",
       "<style scoped>\n",
       "    .dataframe tbody tr th:only-of-type {\n",
       "        vertical-align: middle;\n",
       "    }\n",
       "\n",
       "    .dataframe tbody tr th {\n",
       "        vertical-align: top;\n",
       "    }\n",
       "\n",
       "    .dataframe thead th {\n",
       "        text-align: right;\n",
       "    }\n",
       "</style>\n",
       "<table border=\"1\" class=\"dataframe\">\n",
       "  <thead>\n",
       "    <tr style=\"text-align: right;\">\n",
       "      <th>PromotedInFY</th>\n",
       "      <th>No</th>\n",
       "      <th>Yes</th>\n",
       "    </tr>\n",
       "    <tr>\n",
       "      <th>CarrerLevel</th>\n",
       "      <th></th>\n",
       "      <th></th>\n",
       "    </tr>\n",
       "  </thead>\n",
       "  <tbody>\n",
       "    <tr>\n",
       "      <th>2</th>\n",
       "      <td>79.0</td>\n",
       "      <td>21.0</td>\n",
       "    </tr>\n",
       "    <tr>\n",
       "      <th>3</th>\n",
       "      <td>61.0</td>\n",
       "      <td>39.0</td>\n",
       "    </tr>\n",
       "    <tr>\n",
       "      <th>4</th>\n",
       "      <td>75.0</td>\n",
       "      <td>25.0</td>\n",
       "    </tr>\n",
       "    <tr>\n",
       "      <th>5</th>\n",
       "      <td>73.0</td>\n",
       "      <td>27.0</td>\n",
       "    </tr>\n",
       "    <tr>\n",
       "      <th>6</th>\n",
       "      <td>82.0</td>\n",
       "      <td>18.0</td>\n",
       "    </tr>\n",
       "  </tbody>\n",
       "</table>\n",
       "</div>"
      ],
      "text/plain": [
       "PromotedInFY    No   Yes\n",
       "CarrerLevel             \n",
       "2             79.0  21.0\n",
       "3             61.0  39.0\n",
       "4             75.0  25.0\n",
       "5             73.0  27.0\n",
       "6             82.0  18.0"
      ]
     },
     "execution_count": 81,
     "metadata": {},
     "output_type": "execute_result"
    }
   ],
   "source": [
    "f = lambda x : np.round(x/x.sum() * 100)\n",
    "con_prom = df.groupby(['CarrerLevel', 'PromotedInFY'])['PromotedInFY'].count().unstack().apply(f, axis=1)\n",
    "con_prom"
   ]
  },
  {
   "cell_type": "code",
   "execution_count": 83,
   "metadata": {},
   "outputs": [
    {
     "data": {
      "text/html": [
       "<div>\n",
       "<style scoped>\n",
       "    .dataframe tbody tr th:only-of-type {\n",
       "        vertical-align: middle;\n",
       "    }\n",
       "\n",
       "    .dataframe tbody tr th {\n",
       "        vertical-align: top;\n",
       "    }\n",
       "\n",
       "    .dataframe thead th {\n",
       "        text-align: right;\n",
       "    }\n",
       "</style>\n",
       "<table border=\"1\" class=\"dataframe\">\n",
       "  <thead>\n",
       "    <tr style=\"text-align: right;\">\n",
       "      <th>TerminationInFY</th>\n",
       "      <th>No</th>\n",
       "      <th>Yes</th>\n",
       "    </tr>\n",
       "    <tr>\n",
       "      <th>PromotedInFY</th>\n",
       "      <th></th>\n",
       "      <th></th>\n",
       "    </tr>\n",
       "  </thead>\n",
       "  <tbody>\n",
       "    <tr>\n",
       "      <th>No</th>\n",
       "      <td>68.0</td>\n",
       "      <td>32.0</td>\n",
       "    </tr>\n",
       "    <tr>\n",
       "      <th>Yes</th>\n",
       "      <td>100.0</td>\n",
       "      <td>NaN</td>\n",
       "    </tr>\n",
       "  </tbody>\n",
       "</table>\n",
       "</div>"
      ],
      "text/plain": [
       "TerminationInFY     No   Yes\n",
       "PromotedInFY                \n",
       "No                68.0  32.0\n",
       "Yes              100.0   NaN"
      ]
     },
     "execution_count": 83,
     "metadata": {},
     "output_type": "execute_result"
    }
   ],
   "source": [
    "f = lambda x : np.round(x/x.sum() * 100)\n",
    "con_p_term = df.groupby(['PromotedInFY', 'TerminationInFY'])['TerminationInFY'].count().unstack().apply(f, axis=1)\n",
    "con_p_term"
   ]
  },
  {
   "cell_type": "code",
   "execution_count": 86,
   "metadata": {},
   "outputs": [
    {
     "data": {
      "text/html": [
       "<div>\n",
       "<style scoped>\n",
       "    .dataframe tbody tr th:only-of-type {\n",
       "        vertical-align: middle;\n",
       "    }\n",
       "\n",
       "    .dataframe tbody tr th {\n",
       "        vertical-align: top;\n",
       "    }\n",
       "\n",
       "    .dataframe thead th {\n",
       "        text-align: right;\n",
       "    }\n",
       "</style>\n",
       "<table border=\"1\" class=\"dataframe\">\n",
       "  <thead>\n",
       "    <tr style=\"text-align: right;\">\n",
       "      <th>TerminationType</th>\n",
       "      <th>Involuntary Exit</th>\n",
       "      <th>Voluntary Exit</th>\n",
       "    </tr>\n",
       "    <tr>\n",
       "      <th>PromotedInFY</th>\n",
       "      <th></th>\n",
       "      <th></th>\n",
       "    </tr>\n",
       "  </thead>\n",
       "  <tbody>\n",
       "    <tr>\n",
       "      <th>No</th>\n",
       "      <td>61.0</td>\n",
       "      <td>39.0</td>\n",
       "    </tr>\n",
       "  </tbody>\n",
       "</table>\n",
       "</div>"
      ],
      "text/plain": [
       "TerminationType  Involuntary Exit  Voluntary Exit\n",
       "PromotedInFY                                     \n",
       "No                           61.0            39.0"
      ]
     },
     "execution_count": 86,
     "metadata": {},
     "output_type": "execute_result"
    }
   ],
   "source": [
    "f = lambda x : np.round(x/x.sum() * 100)\n",
    "con_p_term = df.groupby(['PromotedInFY', 'TerminationType'])['PromotedInFY'].count().unstack().apply(f, axis=1)\n",
    "con_p_term"
   ]
  },
  {
   "cell_type": "raw",
   "metadata": {},
   "source": [
    "Rating & Promotion & Termination"
   ]
  },
  {
   "cell_type": "code",
   "execution_count": 87,
   "metadata": {},
   "outputs": [
    {
     "data": {
      "text/html": [
       "<div>\n",
       "<style scoped>\n",
       "    .dataframe tbody tr th:only-of-type {\n",
       "        vertical-align: middle;\n",
       "    }\n",
       "\n",
       "    .dataframe tbody tr th {\n",
       "        vertical-align: top;\n",
       "    }\n",
       "\n",
       "    .dataframe thead th {\n",
       "        text-align: right;\n",
       "    }\n",
       "</style>\n",
       "<table border=\"1\" class=\"dataframe\">\n",
       "  <thead>\n",
       "    <tr style=\"text-align: right;\">\n",
       "      <th>Rating</th>\n",
       "      <th>1</th>\n",
       "      <th>2</th>\n",
       "      <th>3</th>\n",
       "      <th>4</th>\n",
       "      <th>5</th>\n",
       "    </tr>\n",
       "    <tr>\n",
       "      <th>PromotedInFY</th>\n",
       "      <th></th>\n",
       "      <th></th>\n",
       "      <th></th>\n",
       "      <th></th>\n",
       "      <th></th>\n",
       "    </tr>\n",
       "  </thead>\n",
       "  <tbody>\n",
       "    <tr>\n",
       "      <th>No</th>\n",
       "      <td>1.0</td>\n",
       "      <td>25.0</td>\n",
       "      <td>31.0</td>\n",
       "      <td>43.0</td>\n",
       "      <td>NaN</td>\n",
       "    </tr>\n",
       "    <tr>\n",
       "      <th>Yes</th>\n",
       "      <td>NaN</td>\n",
       "      <td>NaN</td>\n",
       "      <td>NaN</td>\n",
       "      <td>3.0</td>\n",
       "      <td>97.0</td>\n",
       "    </tr>\n",
       "  </tbody>\n",
       "</table>\n",
       "</div>"
      ],
      "text/plain": [
       "Rating          1     2     3     4     5\n",
       "PromotedInFY                             \n",
       "No            1.0  25.0  31.0  43.0   NaN\n",
       "Yes           NaN   NaN   NaN   3.0  97.0"
      ]
     },
     "execution_count": 87,
     "metadata": {},
     "output_type": "execute_result"
    }
   ],
   "source": [
    "f = lambda x : np.round(x/x.sum() * 100)\n",
    "con_p_term = df.groupby(['PromotedInFY', 'Rating'])['PromotedInFY'].count().unstack().apply(f, axis=1)\n",
    "con_p_term"
   ]
  },
  {
   "cell_type": "code",
   "execution_count": 88,
   "metadata": {},
   "outputs": [
    {
     "data": {
      "text/html": [
       "<div>\n",
       "<style scoped>\n",
       "    .dataframe tbody tr th:only-of-type {\n",
       "        vertical-align: middle;\n",
       "    }\n",
       "\n",
       "    .dataframe tbody tr th {\n",
       "        vertical-align: top;\n",
       "    }\n",
       "\n",
       "    .dataframe thead th {\n",
       "        text-align: right;\n",
       "    }\n",
       "</style>\n",
       "<table border=\"1\" class=\"dataframe\">\n",
       "  <thead>\n",
       "    <tr style=\"text-align: right;\">\n",
       "      <th>Rating</th>\n",
       "      <th>1</th>\n",
       "      <th>2</th>\n",
       "      <th>3</th>\n",
       "      <th>4</th>\n",
       "      <th>5</th>\n",
       "    </tr>\n",
       "    <tr>\n",
       "      <th>TerminationInFY</th>\n",
       "      <th></th>\n",
       "      <th></th>\n",
       "      <th></th>\n",
       "      <th></th>\n",
       "      <th></th>\n",
       "    </tr>\n",
       "  </thead>\n",
       "  <tbody>\n",
       "    <tr>\n",
       "      <th>No</th>\n",
       "      <td>NaN</td>\n",
       "      <td>NaN</td>\n",
       "      <td>29.0</td>\n",
       "      <td>41.0</td>\n",
       "      <td>30.0</td>\n",
       "    </tr>\n",
       "    <tr>\n",
       "      <th>Yes</th>\n",
       "      <td>3.0</td>\n",
       "      <td>80.0</td>\n",
       "      <td>16.0</td>\n",
       "      <td>NaN</td>\n",
       "      <td>NaN</td>\n",
       "    </tr>\n",
       "  </tbody>\n",
       "</table>\n",
       "</div>"
      ],
      "text/plain": [
       "Rating             1     2     3     4     5\n",
       "TerminationInFY                             \n",
       "No               NaN   NaN  29.0  41.0  30.0\n",
       "Yes              3.0  80.0  16.0   NaN   NaN"
      ]
     },
     "execution_count": 88,
     "metadata": {},
     "output_type": "execute_result"
    }
   ],
   "source": [
    "f = lambda x : np.round(x/x.sum() * 100)\n",
    "con_p_term = df.groupby(['TerminationInFY', 'Rating'])['TerminationInFY'].count().unstack().apply(f, axis=1)\n",
    "con_p_term"
   ]
  },
  {
   "cell_type": "code",
   "execution_count": 91,
   "metadata": {},
   "outputs": [
    {
     "data": {
      "text/html": [
       "<div>\n",
       "<style scoped>\n",
       "    .dataframe tbody tr th:only-of-type {\n",
       "        vertical-align: middle;\n",
       "    }\n",
       "\n",
       "    .dataframe tbody tr th {\n",
       "        vertical-align: top;\n",
       "    }\n",
       "\n",
       "    .dataframe thead th {\n",
       "        text-align: right;\n",
       "    }\n",
       "</style>\n",
       "<table border=\"1\" class=\"dataframe\">\n",
       "  <thead>\n",
       "    <tr style=\"text-align: right;\">\n",
       "      <th></th>\n",
       "      <th>TerminationType</th>\n",
       "      <th>Involuntary Exit</th>\n",
       "      <th>Voluntary Exit</th>\n",
       "    </tr>\n",
       "    <tr>\n",
       "      <th>TerminationInFY</th>\n",
       "      <th>Rating</th>\n",
       "      <th></th>\n",
       "      <th></th>\n",
       "    </tr>\n",
       "  </thead>\n",
       "  <tbody>\n",
       "    <tr>\n",
       "      <th rowspan=\"3\" valign=\"top\">Yes</th>\n",
       "      <th>1</th>\n",
       "      <td>100.0</td>\n",
       "      <td>NaN</td>\n",
       "    </tr>\n",
       "    <tr>\n",
       "      <th>2</th>\n",
       "      <td>74.0</td>\n",
       "      <td>26.0</td>\n",
       "    </tr>\n",
       "    <tr>\n",
       "      <th>3</th>\n",
       "      <td>NaN</td>\n",
       "      <td>100.0</td>\n",
       "    </tr>\n",
       "  </tbody>\n",
       "</table>\n",
       "</div>"
      ],
      "text/plain": [
       "TerminationType         Involuntary Exit  Voluntary Exit\n",
       "TerminationInFY Rating                                  \n",
       "Yes             1                  100.0             NaN\n",
       "                2                   74.0            26.0\n",
       "                3                    NaN           100.0"
      ]
     },
     "execution_count": 91,
     "metadata": {},
     "output_type": "execute_result"
    }
   ],
   "source": [
    "f = lambda x : np.round(x/x.sum() * 100)\n",
    "con_p_term = df.groupby(['TerminationInFY', 'Rating', 'TerminationType',])['Rating'].count().unstack().apply(f, axis=1)\n",
    "con_p_term"
   ]
  },
  {
   "cell_type": "code",
   "execution_count": 92,
   "metadata": {},
   "outputs": [
    {
     "data": {
      "image/png": "[encoded data removed]",
      "text/plain": [
       "<Figure size 432x288 with 1 Axes>"
      ]
     },
     "metadata": {
      "needs_background": "light"
     },
     "output_type": "display_data"
    }
   ],
   "source": [
    "df['Age'].hist(bins =20);"
   ]
  },
  {
   "cell_type": "code",
   "execution_count": 93,
   "metadata": {},
   "outputs": [
    {
     "data": {
      "text/plain": [
       "57.1"
      ]
     },
     "execution_count": 93,
     "metadata": {},
     "output_type": "execute_result"
    }
   ],
   "source": [
    "df['Age'].max()"
   ]
  },
  {
   "cell_type": "code",
   "execution_count": 99,
   "metadata": {},
   "outputs": [],
   "source": [
    "df['AgeGroups']=pd.cut(df.Age,np.arange(20, 70, 5))"
   ]
  },
  {
   "cell_type": "code",
   "execution_count": 100,
   "metadata": {},
   "outputs": [
    {
     "data": {
      "text/html": [
       "<div>\n",
       "<style scoped>\n",
       "    .dataframe tbody tr th:only-of-type {\n",
       "        vertical-align: middle;\n",
       "    }\n",
       "\n",
       "    .dataframe tbody tr th {\n",
       "        vertical-align: top;\n",
       "    }\n",
       "\n",
       "    .dataframe thead th {\n",
       "        text-align: right;\n",
       "    }\n",
       "</style>\n",
       "<table border=\"1\" class=\"dataframe\">\n",
       "  <thead>\n",
       "    <tr style=\"text-align: right;\">\n",
       "      <th>Rating</th>\n",
       "      <th>1</th>\n",
       "      <th>2</th>\n",
       "      <th>3</th>\n",
       "      <th>4</th>\n",
       "      <th>5</th>\n",
       "    </tr>\n",
       "    <tr>\n",
       "      <th>AgeGroups</th>\n",
       "      <th></th>\n",
       "      <th></th>\n",
       "      <th></th>\n",
       "      <th></th>\n",
       "      <th></th>\n",
       "    </tr>\n",
       "  </thead>\n",
       "  <tbody>\n",
       "    <tr>\n",
       "      <th>(20, 25]</th>\n",
       "      <td>1.0</td>\n",
       "      <td>12.0</td>\n",
       "      <td>47.0</td>\n",
       "      <td>30.0</td>\n",
       "      <td>9.0</td>\n",
       "    </tr>\n",
       "    <tr>\n",
       "      <th>(25, 30]</th>\n",
       "      <td>1.0</td>\n",
       "      <td>20.0</td>\n",
       "      <td>24.0</td>\n",
       "      <td>26.0</td>\n",
       "      <td>27.0</td>\n",
       "    </tr>\n",
       "    <tr>\n",
       "      <th>(30, 35]</th>\n",
       "      <td>0.0</td>\n",
       "      <td>21.0</td>\n",
       "      <td>18.0</td>\n",
       "      <td>28.0</td>\n",
       "      <td>32.0</td>\n",
       "    </tr>\n",
       "    <tr>\n",
       "      <th>(35, 40]</th>\n",
       "      <td>0.0</td>\n",
       "      <td>17.0</td>\n",
       "      <td>14.0</td>\n",
       "      <td>49.0</td>\n",
       "      <td>20.0</td>\n",
       "    </tr>\n",
       "    <tr>\n",
       "      <th>(40, 45]</th>\n",
       "      <td>0.0</td>\n",
       "      <td>14.0</td>\n",
       "      <td>11.0</td>\n",
       "      <td>55.0</td>\n",
       "      <td>21.0</td>\n",
       "    </tr>\n",
       "    <tr>\n",
       "      <th>(45, 50]</th>\n",
       "      <td>0.0</td>\n",
       "      <td>0.0</td>\n",
       "      <td>0.0</td>\n",
       "      <td>73.0</td>\n",
       "      <td>27.0</td>\n",
       "    </tr>\n",
       "    <tr>\n",
       "      <th>(50, 55]</th>\n",
       "      <td>0.0</td>\n",
       "      <td>11.0</td>\n",
       "      <td>9.0</td>\n",
       "      <td>74.0</td>\n",
       "      <td>6.0</td>\n",
       "    </tr>\n",
       "    <tr>\n",
       "      <th>(55, 60]</th>\n",
       "      <td>0.0</td>\n",
       "      <td>33.0</td>\n",
       "      <td>33.0</td>\n",
       "      <td>33.0</td>\n",
       "      <td>0.0</td>\n",
       "    </tr>\n",
       "    <tr>\n",
       "      <th>(60, 65]</th>\n",
       "      <td>NaN</td>\n",
       "      <td>NaN</td>\n",
       "      <td>NaN</td>\n",
       "      <td>NaN</td>\n",
       "      <td>NaN</td>\n",
       "    </tr>\n",
       "  </tbody>\n",
       "</table>\n",
       "</div>"
      ],
      "text/plain": [
       "Rating       1     2     3     4     5\n",
       "AgeGroups                             \n",
       "(20, 25]   1.0  12.0  47.0  30.0   9.0\n",
       "(25, 30]   1.0  20.0  24.0  26.0  27.0\n",
       "(30, 35]   0.0  21.0  18.0  28.0  32.0\n",
       "(35, 40]   0.0  17.0  14.0  49.0  20.0\n",
       "(40, 45]   0.0  14.0  11.0  55.0  21.0\n",
       "(45, 50]   0.0   0.0   0.0  73.0  27.0\n",
       "(50, 55]   0.0  11.0   9.0  74.0   6.0\n",
       "(55, 60]   0.0  33.0  33.0  33.0   0.0\n",
       "(60, 65]   NaN   NaN   NaN   NaN   NaN"
      ]
     },
     "execution_count": 100,
     "metadata": {},
     "output_type": "execute_result"
    }
   ],
   "source": [
    "f = lambda x : np.round(x/x.sum() * 100)\n",
    "con_p_term = df.groupby(['AgeGroups', 'Rating'])['Rating'].count().unstack().apply(f, axis=1)\n",
    "con_p_term"
   ]
  },
  {
   "cell_type": "code",
   "execution_count": 104,
   "metadata": {},
   "outputs": [
    {
     "data": {
      "text/html": [
       "<div>\n",
       "<style scoped>\n",
       "    .dataframe tbody tr th:only-of-type {\n",
       "        vertical-align: middle;\n",
       "    }\n",
       "\n",
       "    .dataframe tbody tr th {\n",
       "        vertical-align: top;\n",
       "    }\n",
       "\n",
       "    .dataframe thead th {\n",
       "        text-align: right;\n",
       "    }\n",
       "</style>\n",
       "<table border=\"1\" class=\"dataframe\">\n",
       "  <thead>\n",
       "    <tr style=\"text-align: right;\">\n",
       "      <th>TerminationType</th>\n",
       "      <th>Involuntary Exit</th>\n",
       "      <th>Voluntary Exit</th>\n",
       "    </tr>\n",
       "    <tr>\n",
       "      <th>AgeGroups</th>\n",
       "      <th></th>\n",
       "      <th></th>\n",
       "    </tr>\n",
       "  </thead>\n",
       "  <tbody>\n",
       "    <tr>\n",
       "      <th>(20, 25]</th>\n",
       "      <td>84.0</td>\n",
       "      <td>16.0</td>\n",
       "    </tr>\n",
       "    <tr>\n",
       "      <th>(25, 30]</th>\n",
       "      <td>71.0</td>\n",
       "      <td>29.0</td>\n",
       "    </tr>\n",
       "    <tr>\n",
       "      <th>(30, 35]</th>\n",
       "      <td>46.0</td>\n",
       "      <td>54.0</td>\n",
       "    </tr>\n",
       "    <tr>\n",
       "      <th>(35, 40]</th>\n",
       "      <td>47.0</td>\n",
       "      <td>53.0</td>\n",
       "    </tr>\n",
       "    <tr>\n",
       "      <th>(40, 45]</th>\n",
       "      <td>67.0</td>\n",
       "      <td>33.0</td>\n",
       "    </tr>\n",
       "    <tr>\n",
       "      <th>(45, 50]</th>\n",
       "      <td>NaN</td>\n",
       "      <td>NaN</td>\n",
       "    </tr>\n",
       "    <tr>\n",
       "      <th>(50, 55]</th>\n",
       "      <td>57.0</td>\n",
       "      <td>43.0</td>\n",
       "    </tr>\n",
       "    <tr>\n",
       "      <th>(55, 60]</th>\n",
       "      <td>50.0</td>\n",
       "      <td>50.0</td>\n",
       "    </tr>\n",
       "    <tr>\n",
       "      <th>(60, 65]</th>\n",
       "      <td>NaN</td>\n",
       "      <td>NaN</td>\n",
       "    </tr>\n",
       "  </tbody>\n",
       "</table>\n",
       "</div>"
      ],
      "text/plain": [
       "TerminationType  Involuntary Exit  Voluntary Exit\n",
       "AgeGroups                                        \n",
       "(20, 25]                     84.0            16.0\n",
       "(25, 30]                     71.0            29.0\n",
       "(30, 35]                     46.0            54.0\n",
       "(35, 40]                     47.0            53.0\n",
       "(40, 45]                     67.0            33.0\n",
       "(45, 50]                      NaN             NaN\n",
       "(50, 55]                     57.0            43.0\n",
       "(55, 60]                     50.0            50.0\n",
       "(60, 65]                      NaN             NaN"
      ]
     },
     "execution_count": 104,
     "metadata": {},
     "output_type": "execute_result"
    }
   ],
   "source": [
    "f = lambda x : np.round(x/x.sum() * 100)\n",
    "con_p_term = df.groupby(['AgeGroups',  'TerminationType'])['TerminationInFY'].count().unstack().apply(f, axis=1)\n",
    "con_p_term"
   ]
  },
  {
   "cell_type": "code",
   "execution_count": 109,
   "metadata": {},
   "outputs": [],
   "source": [
    "df['TenureGroups']=pd.cut(df.TenureInY,np.arange(0, 35, 5))"
   ]
  },
  {
   "cell_type": "code",
   "execution_count": 111,
   "metadata": {},
   "outputs": [
    {
     "data": {
      "text/html": [
       "<div>\n",
       "<style scoped>\n",
       "    .dataframe tbody tr th:only-of-type {\n",
       "        vertical-align: middle;\n",
       "    }\n",
       "\n",
       "    .dataframe tbody tr th {\n",
       "        vertical-align: top;\n",
       "    }\n",
       "\n",
       "    .dataframe thead th {\n",
       "        text-align: right;\n",
       "    }\n",
       "</style>\n",
       "<table border=\"1\" class=\"dataframe\">\n",
       "  <thead>\n",
       "    <tr style=\"text-align: right;\">\n",
       "      <th>TerminationType</th>\n",
       "      <th>Involuntary Exit</th>\n",
       "      <th>Voluntary Exit</th>\n",
       "    </tr>\n",
       "    <tr>\n",
       "      <th>TenureGroups</th>\n",
       "      <th></th>\n",
       "      <th></th>\n",
       "    </tr>\n",
       "  </thead>\n",
       "  <tbody>\n",
       "    <tr>\n",
       "      <th>(0, 5]</th>\n",
       "      <td>51.0</td>\n",
       "      <td>49.0</td>\n",
       "    </tr>\n",
       "    <tr>\n",
       "      <th>(5, 10]</th>\n",
       "      <td>90.0</td>\n",
       "      <td>10.0</td>\n",
       "    </tr>\n",
       "    <tr>\n",
       "      <th>(10, 15]</th>\n",
       "      <td>77.0</td>\n",
       "      <td>23.0</td>\n",
       "    </tr>\n",
       "    <tr>\n",
       "      <th>(15, 20]</th>\n",
       "      <td>68.0</td>\n",
       "      <td>32.0</td>\n",
       "    </tr>\n",
       "    <tr>\n",
       "      <th>(20, 25]</th>\n",
       "      <td>NaN</td>\n",
       "      <td>NaN</td>\n",
       "    </tr>\n",
       "    <tr>\n",
       "      <th>(25, 30]</th>\n",
       "      <td>75.0</td>\n",
       "      <td>25.0</td>\n",
       "    </tr>\n",
       "  </tbody>\n",
       "</table>\n",
       "</div>"
      ],
      "text/plain": [
       "TerminationType  Involuntary Exit  Voluntary Exit\n",
       "TenureGroups                                     \n",
       "(0, 5]                       51.0            49.0\n",
       "(5, 10]                      90.0            10.0\n",
       "(10, 15]                     77.0            23.0\n",
       "(15, 20]                     68.0            32.0\n",
       "(20, 25]                      NaN             NaN\n",
       "(25, 30]                     75.0            25.0"
      ]
     },
     "execution_count": 111,
     "metadata": {},
     "output_type": "execute_result"
    }
   ],
   "source": [
    "f = lambda x : np.round(x/x.sum() * 100)\n",
    "con_p_term = df.groupby(['TenureGroups',  'TerminationType'])['TerminationInFY'].count().unstack().apply(f, axis=1)\n",
    "con_p_term"
   ]
  },
  {
   "cell_type": "code",
   "execution_count": null,
   "metadata": {},
   "outputs": [],
   "source": []
  }
 ],
 "metadata": {
  "kernelspec": {
   "display_name": "Python 3",
   "language": "python",
   "name": "python3"
  },
  "language_info": {
   "codemirror_mode": {
    "name": "ipython",
    "version": 3
   },
   "file_extension": ".py",
   "mimetype": "text/x-python",
   "name": "python",
   "nbconvert_exporter": "python",
   "pygments_lexer": "ipython3",
   "version": "3.6.9"
  }
 },
 "nbformat": 4,
 "nbformat_minor": 4
}
