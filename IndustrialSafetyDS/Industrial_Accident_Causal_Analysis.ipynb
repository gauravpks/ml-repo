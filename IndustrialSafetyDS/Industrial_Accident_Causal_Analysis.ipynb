{
  "nbformat": 4,
  "nbformat_minor": 0,
  "metadata": {
    "colab": {
      "name": "Industrial Accident Causal Analysis.ipynb",
      "provenance": [],
      "authorship_tag": "ABX9TyOqEnClbp/+0HLtpQo0wCQY",
      "include_colab_link": true
    },
    "kernelspec": {
      "name": "python3",
      "display_name": "Python 3"
    }
  },
  "cells": [
    {
      "cell_type": "markdown",
      "metadata": {
        "id": "view-in-github",
        "colab_type": "text"
      },
      "source": [
        "<a href=\"https://colab.research.google.com/github/gauravpks/ml-repo/blob/master/IndustrialSafetyDS/Industrial_Accident_Causal_Analysis.ipynb\" target=\"_parent\"><img src=\"https://colab.research.google.com/assets/colab-badge.svg\" alt=\"Open In Colab\"/></a>"
      ]
    },
    {
      "cell_type": "markdown",
      "metadata": {
        "id": "oCwhQqRGJDeL",
        "colab_type": "text"
      },
      "source": [
        "## Project Detail\n",
        ">In this dataset, the information about accidents in 12 manufacturing plants in 3 countries are given by a brazilian company, [IHM Stefanini](https://en.ihm.com.br/). We need to use this dataset to understand why accidents occur, and discover clues to reduce tragedic accidents.<br/>\n",
        "><p>Dataset columns are below:</p>\n",
        "><ul>\n",
        "><li><b>Date</b> : timestamp or time/date information</li>\n",
        "><li><b>Countries</b> : which country the accident occurred (<b>anonymized</b>)</li>\n",
        "><li><b>Local</b> : the city where the manufacturing plant is located (<b>anonymized</b>)</li>\n",
        "><li><b>Industry sector</b> : which sector the plant belongs to</li>\n",
        "><li><b>Accident level</b> : from I to VI, it registers how severe was the accident (I means not severe but VI means very severe)</li>\n",
        "><li><b>Potential Accident Level</b> : Depending on the Accident Level, the database also registers how severe the accident could have been (due to other factors involved in the accident)</li>\n",
        "><li><b>Genre</b> : if the person is male of female</li>\n",
        "><li><b>Employee or Third Party</b> : if the injured person is an employee or a third party</li>\n",
        "><li><b>Critical Risk</b> : some description of the risk involved in the accident</li>\n",
        "><li><b>Description</b> : Detailed description of how the accident happened</li>\n",
        "></ul>"
      ]
    },
    {
      "cell_type": "code",
      "metadata": {
        "id": "DA3a0GU7BZSd",
        "colab_type": "code",
        "colab": {}
      },
      "source": [
        "import pandas as pd\n",
        "import numpy as np\n",
        "import matplotlib.pyplot as plt"
      ],
      "execution_count": 2,
      "outputs": []
    },
    {
      "cell_type": "markdown",
      "metadata": {
        "id": "ghMTepb6IMd8",
        "colab_type": "text"
      },
      "source": [
        "#Reading Dataset"
      ]
    },
    {
      "cell_type": "code",
      "metadata": {
        "id": "Hp5R0Qo15-aa",
        "colab_type": "code",
        "colab": {}
      },
      "source": [
        "df = pd.read_csv(\"https://raw.githubusercontent.com/gauravpks/ml-repo/master/IndustrialSafetyDS/industrial_safety.csv\")"
      ],
      "execution_count": 3,
      "outputs": []
    },
    {
      "cell_type": "code",
      "metadata": {
        "id": "qjxaTc2gA_AP",
        "colab_type": "code",
        "colab": {
          "base_uri": "https://localhost:8080/",
          "height": 210
        },
        "outputId": "8552a801-e9fd-4ab2-8258-0c84ea2117d0"
      },
      "source": [
        "df.head(3)"
      ],
      "execution_count": 4,
      "outputs": [
        {
          "output_type": "execute_result",
          "data": {
            "text/html": [
              "<div>\n",
              "<style scoped>\n",
              "    .dataframe tbody tr th:only-of-type {\n",
              "        vertical-align: middle;\n",
              "    }\n",
              "\n",
              "    .dataframe tbody tr th {\n",
              "        vertical-align: top;\n",
              "    }\n",
              "\n",
              "    .dataframe thead th {\n",
              "        text-align: right;\n",
              "    }\n",
              "</style>\n",
              "<table border=\"1\" class=\"dataframe\">\n",
              "  <thead>\n",
              "    <tr style=\"text-align: right;\">\n",
              "      <th></th>\n",
              "      <th>Data</th>\n",
              "      <th>Countries</th>\n",
              "      <th>Local</th>\n",
              "      <th>Industry Sector</th>\n",
              "      <th>Accident Level</th>\n",
              "      <th>Potential Accident Level</th>\n",
              "      <th>Gender</th>\n",
              "      <th>Employee or Third Party</th>\n",
              "      <th>Critical Risk</th>\n",
              "      <th>Description</th>\n",
              "    </tr>\n",
              "  </thead>\n",
              "  <tbody>\n",
              "    <tr>\n",
              "      <th>0</th>\n",
              "      <td>01-01-2016 00:00</td>\n",
              "      <td>United States</td>\n",
              "      <td>West Virginia</td>\n",
              "      <td>Mining</td>\n",
              "      <td>I</td>\n",
              "      <td>IV</td>\n",
              "      <td>Male</td>\n",
              "      <td>Third Party</td>\n",
              "      <td>Pressed</td>\n",
              "      <td>While removing the drill rod of the Jumbo 08 f...</td>\n",
              "    </tr>\n",
              "    <tr>\n",
              "      <th>1</th>\n",
              "      <td>02-01-2016 00:00</td>\n",
              "      <td>Canada</td>\n",
              "      <td>Alberta</td>\n",
              "      <td>Mining</td>\n",
              "      <td>I</td>\n",
              "      <td>IV</td>\n",
              "      <td>Male</td>\n",
              "      <td>Employee</td>\n",
              "      <td>Pressurized Systems</td>\n",
              "      <td>During the activation of a sodium sulphide pum...</td>\n",
              "    </tr>\n",
              "    <tr>\n",
              "      <th>2</th>\n",
              "      <td>06-01-2016 00:00</td>\n",
              "      <td>United States</td>\n",
              "      <td>Kentucky</td>\n",
              "      <td>Mining</td>\n",
              "      <td>I</td>\n",
              "      <td>III</td>\n",
              "      <td>Male</td>\n",
              "      <td>Third Party (Remote)</td>\n",
              "      <td>Manual Tools</td>\n",
              "      <td>In the sub-station MILPO located at level +170...</td>\n",
              "    </tr>\n",
              "  </tbody>\n",
              "</table>\n",
              "</div>"
            ],
            "text/plain": [
              "               Data  ...                                        Description\n",
              "0  01-01-2016 00:00  ...  While removing the drill rod of the Jumbo 08 f...\n",
              "1  02-01-2016 00:00  ...  During the activation of a sodium sulphide pum...\n",
              "2  06-01-2016 00:00  ...  In the sub-station MILPO located at level +170...\n",
              "\n",
              "[3 rows x 10 columns]"
            ]
          },
          "metadata": {
            "tags": []
          },
          "execution_count": 4
        }
      ]
    },
    {
      "cell_type": "code",
      "metadata": {
        "id": "Rmniou0aIr12",
        "colab_type": "code",
        "colab": {
          "base_uri": "https://localhost:8080/",
          "height": 306
        },
        "outputId": "b8097f0e-633c-4d23-a409-031cb4985801"
      },
      "source": [
        "df.info()"
      ],
      "execution_count": 5,
      "outputs": [
        {
          "output_type": "stream",
          "text": [
            "<class 'pandas.core.frame.DataFrame'>\n",
            "RangeIndex: 424 entries, 0 to 423\n",
            "Data columns (total 10 columns):\n",
            " #   Column                    Non-Null Count  Dtype \n",
            "---  ------                    --------------  ----- \n",
            " 0   Data                      424 non-null    object\n",
            " 1   Countries                 424 non-null    object\n",
            " 2   Local                     424 non-null    object\n",
            " 3   Industry Sector           424 non-null    object\n",
            " 4   Accident Level            424 non-null    object\n",
            " 5   Potential Accident Level  424 non-null    object\n",
            " 6   Gender                    424 non-null    object\n",
            " 7   Employee or Third Party   424 non-null    object\n",
            " 8   Critical Risk             424 non-null    object\n",
            " 9   Description               424 non-null    object\n",
            "dtypes: object(10)\n",
            "memory usage: 33.2+ KB\n"
          ],
          "name": "stdout"
        }
      ]
    },
    {
      "cell_type": "code",
      "metadata": {
        "id": "-7aqqp9GHrxA",
        "colab_type": "code",
        "colab": {
          "base_uri": "https://localhost:8080/",
          "height": 278
        },
        "outputId": "4b681582-3fa8-4f2a-bbce-a397af5aadd4"
      },
      "source": [
        "df.rename(columns={'Data':'Date', 'Countries':'Country', 'Employee or Third Party':'Employee Type'}, inplace=True)\n",
        "df.head(3)"
      ],
      "execution_count": 61,
      "outputs": [
        {
          "output_type": "execute_result",
          "data": {
            "text/html": [
              "<div>\n",
              "<style scoped>\n",
              "    .dataframe tbody tr th:only-of-type {\n",
              "        vertical-align: middle;\n",
              "    }\n",
              "\n",
              "    .dataframe tbody tr th {\n",
              "        vertical-align: top;\n",
              "    }\n",
              "\n",
              "    .dataframe thead th {\n",
              "        text-align: right;\n",
              "    }\n",
              "</style>\n",
              "<table border=\"1\" class=\"dataframe\">\n",
              "  <thead>\n",
              "    <tr style=\"text-align: right;\">\n",
              "      <th></th>\n",
              "      <th>Date</th>\n",
              "      <th>Country</th>\n",
              "      <th>Local</th>\n",
              "      <th>Industry Sector</th>\n",
              "      <th>Accident Level</th>\n",
              "      <th>Potential Accident Level</th>\n",
              "      <th>Gender</th>\n",
              "      <th>Employee Type</th>\n",
              "      <th>Critical Risk</th>\n",
              "      <th>Description</th>\n",
              "      <th>Year</th>\n",
              "      <th>Month</th>\n",
              "      <th>Day</th>\n",
              "      <th>Weekday</th>\n",
              "      <th>WeekofYear</th>\n",
              "      <th>Season</th>\n",
              "    </tr>\n",
              "  </thead>\n",
              "  <tbody>\n",
              "    <tr>\n",
              "      <th>0</th>\n",
              "      <td>2016-01-01</td>\n",
              "      <td>United States</td>\n",
              "      <td>West Virginia</td>\n",
              "      <td>Mining</td>\n",
              "      <td>I</td>\n",
              "      <td>IV</td>\n",
              "      <td>Male</td>\n",
              "      <td>Third Party</td>\n",
              "      <td>Pressed</td>\n",
              "      <td>While removing the drill rod of the Jumbo 08 f...</td>\n",
              "      <td>2016</td>\n",
              "      <td>1</td>\n",
              "      <td>1</td>\n",
              "      <td>Friday</td>\n",
              "      <td>53</td>\n",
              "      <td>Summer</td>\n",
              "    </tr>\n",
              "    <tr>\n",
              "      <th>1</th>\n",
              "      <td>2016-02-01</td>\n",
              "      <td>Canada</td>\n",
              "      <td>Alberta</td>\n",
              "      <td>Mining</td>\n",
              "      <td>I</td>\n",
              "      <td>IV</td>\n",
              "      <td>Male</td>\n",
              "      <td>Employee</td>\n",
              "      <td>Pressurized Systems</td>\n",
              "      <td>During the activation of a sodium sulphide pum...</td>\n",
              "      <td>2016</td>\n",
              "      <td>2</td>\n",
              "      <td>1</td>\n",
              "      <td>Monday</td>\n",
              "      <td>5</td>\n",
              "      <td>Summer</td>\n",
              "    </tr>\n",
              "    <tr>\n",
              "      <th>2</th>\n",
              "      <td>2016-06-01</td>\n",
              "      <td>United States</td>\n",
              "      <td>Kentucky</td>\n",
              "      <td>Mining</td>\n",
              "      <td>I</td>\n",
              "      <td>III</td>\n",
              "      <td>Male</td>\n",
              "      <td>Third Party (Remote)</td>\n",
              "      <td>Manual Tools</td>\n",
              "      <td>In the sub-station MILPO located at level +170...</td>\n",
              "      <td>2016</td>\n",
              "      <td>6</td>\n",
              "      <td>1</td>\n",
              "      <td>Wednesday</td>\n",
              "      <td>22</td>\n",
              "      <td>Winter</td>\n",
              "    </tr>\n",
              "  </tbody>\n",
              "</table>\n",
              "</div>"
            ],
            "text/plain": [
              "        Date         Country          Local  ...    Weekday WeekofYear  Season\n",
              "0 2016-01-01  United States   West Virginia  ...     Friday         53  Summer\n",
              "1 2016-02-01          Canada        Alberta  ...     Monday          5  Summer\n",
              "2 2016-06-01  United States        Kentucky  ...  Wednesday         22  Winter\n",
              "\n",
              "[3 rows x 16 columns]"
            ]
          },
          "metadata": {
            "tags": []
          },
          "execution_count": 61
        }
      ]
    },
    {
      "cell_type": "markdown",
      "metadata": {
        "id": "M9j_rS_yIJH8",
        "colab_type": "text"
      },
      "source": [
        "#Pre-Processing "
      ]
    },
    {
      "cell_type": "markdown",
      "metadata": {
        "id": "xLTwEQftICx7",
        "colab_type": "text"
      },
      "source": [
        "Adding datetime features such as year,month and day"
      ]
    },
    {
      "cell_type": "code",
      "metadata": {
        "id": "0M0SiGfJIHtn",
        "colab_type": "code",
        "colab": {
          "base_uri": "https://localhost:8080/",
          "height": 278
        },
        "outputId": "25f54a09-5083-4e48-d071-3a2f107ed241"
      },
      "source": [
        "df['Date'] = pd.to_datetime(df['Date'])\n",
        "df['Year'] = df['Date'].apply(lambda x : x.year)\n",
        "df['Month'] = df['Date'].apply(lambda x : x.month)\n",
        "df['Day'] = df['Date'].apply(lambda x : x.day)\n",
        "df['Weekday'] = df['Date'].apply(lambda x : x.day_name())\n",
        "df['WeekofYear'] = df['Date'].apply(lambda x : x.weekofyear)\n",
        "df.head(3)"
      ],
      "execution_count": 64,
      "outputs": [
        {
          "output_type": "execute_result",
          "data": {
            "text/html": [
              "<div>\n",
              "<style scoped>\n",
              "    .dataframe tbody tr th:only-of-type {\n",
              "        vertical-align: middle;\n",
              "    }\n",
              "\n",
              "    .dataframe tbody tr th {\n",
              "        vertical-align: top;\n",
              "    }\n",
              "\n",
              "    .dataframe thead th {\n",
              "        text-align: right;\n",
              "    }\n",
              "</style>\n",
              "<table border=\"1\" class=\"dataframe\">\n",
              "  <thead>\n",
              "    <tr style=\"text-align: right;\">\n",
              "      <th></th>\n",
              "      <th>Date</th>\n",
              "      <th>Country</th>\n",
              "      <th>Local</th>\n",
              "      <th>Industry Sector</th>\n",
              "      <th>Accident Level</th>\n",
              "      <th>Potential Accident Level</th>\n",
              "      <th>Gender</th>\n",
              "      <th>Employee Type</th>\n",
              "      <th>Critical Risk</th>\n",
              "      <th>Description</th>\n",
              "      <th>Year</th>\n",
              "      <th>Month</th>\n",
              "      <th>Day</th>\n",
              "      <th>Weekday</th>\n",
              "      <th>WeekofYear</th>\n",
              "      <th>Season</th>\n",
              "    </tr>\n",
              "  </thead>\n",
              "  <tbody>\n",
              "    <tr>\n",
              "      <th>0</th>\n",
              "      <td>2016-01-01</td>\n",
              "      <td>United States</td>\n",
              "      <td>West Virginia</td>\n",
              "      <td>Mining</td>\n",
              "      <td>I</td>\n",
              "      <td>IV</td>\n",
              "      <td>Male</td>\n",
              "      <td>Third Party</td>\n",
              "      <td>Pressed</td>\n",
              "      <td>While removing the drill rod of the Jumbo 08 f...</td>\n",
              "      <td>2016</td>\n",
              "      <td>1</td>\n",
              "      <td>1</td>\n",
              "      <td>Friday</td>\n",
              "      <td>53</td>\n",
              "      <td>Summer</td>\n",
              "    </tr>\n",
              "    <tr>\n",
              "      <th>1</th>\n",
              "      <td>2016-02-01</td>\n",
              "      <td>Canada</td>\n",
              "      <td>Alberta</td>\n",
              "      <td>Mining</td>\n",
              "      <td>I</td>\n",
              "      <td>IV</td>\n",
              "      <td>Male</td>\n",
              "      <td>Employee</td>\n",
              "      <td>Pressurized Systems</td>\n",
              "      <td>During the activation of a sodium sulphide pum...</td>\n",
              "      <td>2016</td>\n",
              "      <td>2</td>\n",
              "      <td>1</td>\n",
              "      <td>Monday</td>\n",
              "      <td>5</td>\n",
              "      <td>Summer</td>\n",
              "    </tr>\n",
              "    <tr>\n",
              "      <th>2</th>\n",
              "      <td>2016-06-01</td>\n",
              "      <td>United States</td>\n",
              "      <td>Kentucky</td>\n",
              "      <td>Mining</td>\n",
              "      <td>I</td>\n",
              "      <td>III</td>\n",
              "      <td>Male</td>\n",
              "      <td>Third Party (Remote)</td>\n",
              "      <td>Manual Tools</td>\n",
              "      <td>In the sub-station MILPO located at level +170...</td>\n",
              "      <td>2016</td>\n",
              "      <td>6</td>\n",
              "      <td>1</td>\n",
              "      <td>Wednesday</td>\n",
              "      <td>22</td>\n",
              "      <td>Winter</td>\n",
              "    </tr>\n",
              "  </tbody>\n",
              "</table>\n",
              "</div>"
            ],
            "text/plain": [
              "        Date         Country          Local  ...    Weekday WeekofYear  Season\n",
              "0 2016-01-01  United States   West Virginia  ...     Friday         53  Summer\n",
              "1 2016-02-01          Canada        Alberta  ...     Monday          5  Summer\n",
              "2 2016-06-01  United States        Kentucky  ...  Wednesday         22  Winter\n",
              "\n",
              "[3 rows x 16 columns]"
            ]
          },
          "metadata": {
            "tags": []
          },
          "execution_count": 64
        }
      ]
    },
    {
      "cell_type": "code",
      "metadata": {
        "id": "O9fadmLvI2Vg",
        "colab_type": "code",
        "colab": {
          "base_uri": "https://localhost:8080/",
          "height": 391
        },
        "outputId": "3c8bf618-c5c2-4b9a-8a5d-1febfd760f7f"
      },
      "source": [
        "df.info()"
      ],
      "execution_count": 8,
      "outputs": [
        {
          "output_type": "stream",
          "text": [
            "<class 'pandas.core.frame.DataFrame'>\n",
            "RangeIndex: 424 entries, 0 to 423\n",
            "Data columns (total 15 columns):\n",
            " #   Column                    Non-Null Count  Dtype         \n",
            "---  ------                    --------------  -----         \n",
            " 0   Date                      424 non-null    datetime64[ns]\n",
            " 1   Country                   424 non-null    object        \n",
            " 2   Local                     424 non-null    object        \n",
            " 3   Industry Sector           424 non-null    object        \n",
            " 4   Accident Level            424 non-null    object        \n",
            " 5   Potential Accident Level  424 non-null    object        \n",
            " 6   Gender                    424 non-null    object        \n",
            " 7   Employee Type             424 non-null    object        \n",
            " 8   Critical Risk             424 non-null    object        \n",
            " 9   Description               424 non-null    object        \n",
            " 10  Year                      424 non-null    int64         \n",
            " 11  Month                     424 non-null    int64         \n",
            " 12  Day                       424 non-null    int64         \n",
            " 13  Weekday                   424 non-null    object        \n",
            " 14  WeekofYear                424 non-null    int64         \n",
            "dtypes: datetime64[ns](1), int64(4), object(10)\n",
            "memory usage: 49.8+ KB\n"
          ],
          "name": "stdout"
        }
      ]
    },
    {
      "cell_type": "markdown",
      "metadata": {
        "id": "9pDyoq6HJpNF",
        "colab_type": "text"
      },
      "source": [
        "Accordin to this discussion, countries are from North America. \n",
        "As per knowledge there are four climatological seasons as below.\n",
        "Spring : September to November\n",
        "Summer : December to February\n",
        "Autumn : March to May\n",
        "Winter : June to August\n",
        "We can create seasonal variable based on month variable."
      ]
    },
    {
      "cell_type": "code",
      "metadata": {
        "id": "ojoGgu6JI3Rj",
        "colab_type": "code",
        "colab": {}
      },
      "source": [
        "def month2seasons(x):\n",
        "    if x in [9, 10, 11]:\n",
        "        season = 'Spring'\n",
        "    elif x in [12, 1, 2]:\n",
        "        season = 'Summer'\n",
        "    elif x in [3, 4, 5]:\n",
        "        season = 'Autumn'\n",
        "    elif x in [6, 7, 8]:\n",
        "        season = 'Winter'\n",
        "    return season"
      ],
      "execution_count": 9,
      "outputs": []
    },
    {
      "cell_type": "code",
      "metadata": {
        "id": "-7JmIqvxKHeQ",
        "colab_type": "code",
        "colab": {
          "base_uri": "https://localhost:8080/",
          "height": 278
        },
        "outputId": "e2099ea4-9f74-4dd1-c212-ebd936f538f2"
      },
      "source": [
        "df['Season'] = df['Month'].apply(month2seasons)\n",
        "df.head(3)"
      ],
      "execution_count": 65,
      "outputs": [
        {
          "output_type": "execute_result",
          "data": {
            "text/html": [
              "<div>\n",
              "<style scoped>\n",
              "    .dataframe tbody tr th:only-of-type {\n",
              "        vertical-align: middle;\n",
              "    }\n",
              "\n",
              "    .dataframe tbody tr th {\n",
              "        vertical-align: top;\n",
              "    }\n",
              "\n",
              "    .dataframe thead th {\n",
              "        text-align: right;\n",
              "    }\n",
              "</style>\n",
              "<table border=\"1\" class=\"dataframe\">\n",
              "  <thead>\n",
              "    <tr style=\"text-align: right;\">\n",
              "      <th></th>\n",
              "      <th>Date</th>\n",
              "      <th>Country</th>\n",
              "      <th>Local</th>\n",
              "      <th>Industry Sector</th>\n",
              "      <th>Accident Level</th>\n",
              "      <th>Potential Accident Level</th>\n",
              "      <th>Gender</th>\n",
              "      <th>Employee Type</th>\n",
              "      <th>Critical Risk</th>\n",
              "      <th>Description</th>\n",
              "      <th>Year</th>\n",
              "      <th>Month</th>\n",
              "      <th>Day</th>\n",
              "      <th>Weekday</th>\n",
              "      <th>WeekofYear</th>\n",
              "      <th>Season</th>\n",
              "    </tr>\n",
              "  </thead>\n",
              "  <tbody>\n",
              "    <tr>\n",
              "      <th>0</th>\n",
              "      <td>2016-01-01</td>\n",
              "      <td>United States</td>\n",
              "      <td>West Virginia</td>\n",
              "      <td>Mining</td>\n",
              "      <td>I</td>\n",
              "      <td>IV</td>\n",
              "      <td>Male</td>\n",
              "      <td>Third Party</td>\n",
              "      <td>Pressed</td>\n",
              "      <td>While removing the drill rod of the Jumbo 08 f...</td>\n",
              "      <td>2016</td>\n",
              "      <td>1</td>\n",
              "      <td>1</td>\n",
              "      <td>Friday</td>\n",
              "      <td>53</td>\n",
              "      <td>Summer</td>\n",
              "    </tr>\n",
              "    <tr>\n",
              "      <th>1</th>\n",
              "      <td>2016-02-01</td>\n",
              "      <td>Canada</td>\n",
              "      <td>Alberta</td>\n",
              "      <td>Mining</td>\n",
              "      <td>I</td>\n",
              "      <td>IV</td>\n",
              "      <td>Male</td>\n",
              "      <td>Employee</td>\n",
              "      <td>Pressurized Systems</td>\n",
              "      <td>During the activation of a sodium sulphide pum...</td>\n",
              "      <td>2016</td>\n",
              "      <td>2</td>\n",
              "      <td>1</td>\n",
              "      <td>Monday</td>\n",
              "      <td>5</td>\n",
              "      <td>Summer</td>\n",
              "    </tr>\n",
              "    <tr>\n",
              "      <th>2</th>\n",
              "      <td>2016-06-01</td>\n",
              "      <td>United States</td>\n",
              "      <td>Kentucky</td>\n",
              "      <td>Mining</td>\n",
              "      <td>I</td>\n",
              "      <td>III</td>\n",
              "      <td>Male</td>\n",
              "      <td>Third Party (Remote)</td>\n",
              "      <td>Manual Tools</td>\n",
              "      <td>In the sub-station MILPO located at level +170...</td>\n",
              "      <td>2016</td>\n",
              "      <td>6</td>\n",
              "      <td>1</td>\n",
              "      <td>Wednesday</td>\n",
              "      <td>22</td>\n",
              "      <td>Winter</td>\n",
              "    </tr>\n",
              "  </tbody>\n",
              "</table>\n",
              "</div>"
            ],
            "text/plain": [
              "        Date         Country          Local  ...    Weekday WeekofYear  Season\n",
              "0 2016-01-01  United States   West Virginia  ...     Friday         53  Summer\n",
              "1 2016-02-01          Canada        Alberta  ...     Monday          5  Summer\n",
              "2 2016-06-01  United States        Kentucky  ...  Wednesday         22  Winter\n",
              "\n",
              "[3 rows x 16 columns]"
            ]
          },
          "metadata": {
            "tags": []
          },
          "execution_count": 65
        }
      ]
    },
    {
      "cell_type": "markdown",
      "metadata": {
        "id": "Jjwj1cpbYN1L",
        "colab_type": "text"
      },
      "source": [
        "#Exploratory Data Analysis"
      ]
    },
    {
      "cell_type": "markdown",
      "metadata": {
        "id": "sUoKB5Kxe2qO",
        "colab_type": "text"
      },
      "source": [
        "\n",
        "\n",
        "---\n",
        "Univariate Analysis\n",
        "\n",
        "\n",
        "---\n",
        "\n",
        "\n",
        "\n"
      ]
    },
    {
      "cell_type": "markdown",
      "metadata": {
        "id": "6roRdrdo5A8Y",
        "colab_type": "text"
      },
      "source": [
        "**Accident by Country**"
      ]
    },
    {
      "cell_type": "code",
      "metadata": {
        "id": "v-6IgDasZjtE",
        "colab_type": "code",
        "colab": {
          "base_uri": "https://localhost:8080/",
          "height": 85
        },
        "outputId": "cf129021-c4ae-4dff-8668-e44739875ae0"
      },
      "source": [
        "df['Country'].value_counts()"
      ],
      "execution_count": 67,
      "outputs": [
        {
          "output_type": "execute_result",
          "data": {
            "text/plain": [
              "United States     251\n",
              "Canada            129\n",
              "Mexico             44\n",
              "Name: Country, dtype: int64"
            ]
          },
          "metadata": {
            "tags": []
          },
          "execution_count": 67
        }
      ]
    },
    {
      "cell_type": "code",
      "metadata": {
        "id": "w-SULuNYZcDw",
        "colab_type": "code",
        "colab": {
          "base_uri": "https://localhost:8080/",
          "height": 85
        },
        "outputId": "dc631ac3-f211-439e-a020-cbf99a8bff93"
      },
      "source": [
        "country_cnt =np.round((df['Country'].value_counts(normalize=True)* 100 ))\n",
        "country_cnt"
      ],
      "execution_count": 71,
      "outputs": [
        {
          "output_type": "execute_result",
          "data": {
            "text/plain": [
              "United States     59.0\n",
              "Canada            30.0\n",
              "Mexico            10.0\n",
              "Name: Country, dtype: float64"
            ]
          },
          "metadata": {
            "tags": []
          },
          "execution_count": 71
        }
      ]
    },
    {
      "cell_type": "code",
      "metadata": {
        "id": "d0GccMPKal3n",
        "colab_type": "code",
        "colab": {
          "base_uri": "https://localhost:8080/",
          "height": 34
        },
        "outputId": "770f0fb8-ab89-4ba8-e518-aecd98f4549b"
      },
      "source": [
        "type(country_cnt)"
      ],
      "execution_count": 58,
      "outputs": [
        {
          "output_type": "execute_result",
          "data": {
            "text/plain": [
              "pandas.core.series.Series"
            ]
          },
          "metadata": {
            "tags": []
          },
          "execution_count": 58
        }
      ]
    },
    {
      "cell_type": "code",
      "metadata": {
        "id": "aGiylskDc7sQ",
        "colab_type": "code",
        "colab": {}
      },
      "source": [
        "percent = country_cnt.to_numpy()\n",
        "country = country_cnt.keys().values\n"
      ],
      "execution_count": 80,
      "outputs": []
    },
    {
      "cell_type": "code",
      "metadata": {
        "id": "xV7gwjaicpP7",
        "colab_type": "code",
        "colab": {
          "base_uri": "https://localhost:8080/",
          "height": 350
        },
        "outputId": "660216ff-fe3f-46da-ee86-1f7a4ec71f04"
      },
      "source": [
        "fig = plt.figure(figsize = (10, 5)) \n",
        "plt.bar(country, percent, color ='red',  \n",
        "        width = 0.4) \n",
        "plt.xlabel(\"Countries\") \n",
        "plt.ylabel(\"% of Accidents\") \n",
        "plt.title(\"Accident Distribution- Country Wise\") \n",
        "plt.show()"
      ],
      "execution_count": 83,
      "outputs": [
        {
          "output_type": "display_data",
          "data": {
            "image/png": "[encoded data removed]",
            "text/plain": [
              "<Figure size 720x360 with 1 Axes>"
            ]
          },
          "metadata": {
            "tags": [],
            "needs_background": "light"
          }
        }
      ]
    },
    {
      "cell_type": "markdown",
      "metadata": {
        "id": "V4jHtDiy49co",
        "colab_type": "text"
      },
      "source": [
        "**Accident By Local**"
      ]
    },
    {
      "cell_type": "code",
      "metadata": {
        "id": "vdLTlBmAY_gs",
        "colab_type": "code",
        "colab": {
          "base_uri": "https://localhost:8080/",
          "height": 238
        },
        "outputId": "26773c3b-945b-4be9-d0f8-5feab6bf5b41"
      },
      "source": [
        "local_cnt = np.round(df['Local'].value_counts(normalize=True) * 100)\n",
        "local_cnt"
      ],
      "execution_count": 16,
      "outputs": [
        {
          "output_type": "execute_result",
          "data": {
            "text/plain": [
              "Kentucky             21.0\n",
              "British Columbia     14.0\n",
              "West Virginia        13.0\n",
              "Illinois             13.0\n",
              "Pennsylvania         11.0\n",
              "Mexico City          10.0\n",
              "Ontario               6.0\n",
              "Alberta               6.0\n",
              "Manitoba              4.0\n",
              "Quebec                1.0\n",
              "Yukon                 1.0\n",
              "Montana               0.0\n",
              "Name: Local, dtype: float64"
            ]
          },
          "metadata": {
            "tags": []
          },
          "execution_count": 16
        }
      ]
    },
    {
      "cell_type": "code",
      "metadata": {
        "id": "PyD7mVjr3_1t",
        "colab_type": "code",
        "colab": {
          "base_uri": "https://localhost:8080/",
          "height": 350
        },
        "outputId": "14cbcc74-3fb8-46e8-b166-b65b565c1f5d"
      },
      "source": [
        "fig = plt.figure(figsize = (18, 5)) \n",
        "plt.bar(local_cnt.keys().values, local_cnt.to_numpy(), color ='maroon', width = 0.4) \n",
        "plt.xlabel(\"Countries\") \n",
        "plt.ylabel(\"% of Accidents\") \n",
        "plt.title(\"Accident Distribution- Local Wise\") \n",
        "plt.show()"
      ],
      "execution_count": 25,
      "outputs": [
        {
          "output_type": "display_data",
          "data": {
            "image/png": "[encoded data removed]",
            "text/plain": [
              "<Figure size 1296x360 with 1 Axes>"
            ]
          },
          "metadata": {
            "tags": [],
            "needs_background": "light"
          }
        }
      ]
    },
    {
      "cell_type": "markdown",
      "metadata": {
        "id": "rYgkbTns5Sz4",
        "colab_type": "text"
      },
      "source": [
        "**Accident By Sector**"
      ]
    },
    {
      "cell_type": "code",
      "metadata": {
        "id": "rhN8WOWO44ue",
        "colab_type": "code",
        "colab": {
          "base_uri": "https://localhost:8080/",
          "height": 350
        },
        "outputId": "345c580a-aba0-4aea-f8e6-d9ad1d866355"
      },
      "source": [
        "sector_cnt = np.round(df['Industry Sector'].value_counts(normalize=True) * 100)\n",
        "fig = plt.figure(figsize = (10, 5)) \n",
        "plt.bar(sector_cnt.keys().values, sector_cnt.to_numpy(), color ='maroon', width = 0.4) \n",
        "plt.xlabel(\"Countries\") \n",
        "plt.ylabel(\"% of Accidents\") \n",
        "plt.title(\"Accident Distribution- Sector Wise\") \n",
        "plt.show()"
      ],
      "execution_count": 27,
      "outputs": [
        {
          "output_type": "display_data",
          "data": {
            "image/png": "[encoded data removed]",
            "text/plain": [
              "<Figure size 720x360 with 1 Axes>"
            ]
          },
          "metadata": {
            "tags": [],
            "needs_background": "light"
          }
        }
      ]
    }
  ]
}