{
  "nbformat": 4,
  "nbformat_minor": 0,
  "metadata": {
    "colab": {
      "name": "Industrial Accident Causal Analysis.ipynb",
      "provenance": [],
      "authorship_tag": "ABX9TyOt9ydXos1tvO2fnmkKfJjt",
      "include_colab_link": true
    },
    "kernelspec": {
      "name": "python3",
      "display_name": "Python 3"
    }
  },
  "cells": [
    {
      "cell_type": "markdown",
      "metadata": {
        "id": "view-in-github",
        "colab_type": "text"
      },
      "source": [
        "<a href=\"https://colab.research.google.com/github/gauravpks/ml-repo/blob/master/IndustrialSafetyDS/Industrial_Accident_Causal_Analysis.ipynb\" target=\"_parent\"><img src=\"https://colab.research.google.com/assets/colab-badge.svg\" alt=\"Open In Colab\"/></a>"
      ]
    },
    {
      "cell_type": "markdown",
      "metadata": {
        "id": "oCwhQqRGJDeL"
      },
      "source": [
        "## Project Detail\n",
        ">In this dataset, the information about accidents in 12 manufacturing plants in 3 countries are given by a brazilian company, [IHM Stefanini](https://en.ihm.com.br/). We need to use this dataset to understand why accidents occur, and discover clues to reduce tragedic accidents.<br/>\n",
        "><p>Dataset columns are below:</p>\n",
        "><ul>\n",
        "><li><b>Date</b> : timestamp or time/date information</li>\n",
        "><li><b>Countries</b> : which country the accident occurred (<b>anonymized</b>)</li>\n",
        "><li><b>Local</b> : the city where the manufacturing plant is located (<b>anonymized</b>)</li>\n",
        "><li><b>Industry sector</b> : which sector the plant belongs to</li>\n",
        "><li><b>Accident level</b> : from I to VI, it registers how severe was the accident (I means not severe but VI means very severe)</li>\n",
        "><li><b>Potential Accident Level</b> : Depending on the Accident Level, the database also registers how severe the accident could have been (due to other factors involved in the accident)</li>\n",
        "><li><b>Genre</b> : if the person is male of female</li>\n",
        "><li><b>Employee or Third Party</b> : if the injured person is an employee or a third party</li>\n",
        "><li><b>Critical Risk</b> : some description of the risk involved in the accident</li>\n",
        "><li><b>Description</b> : Detailed description of how the accident happened</li>\n",
        "></ul>"
      ]
    },
    {
      "cell_type": "code",
      "metadata": {
        "id": "DA3a0GU7BZSd"
      },
      "source": [
        "import pandas as pd\n",
        "import numpy as np\n",
        "import matplotlib.pyplot as plt"
      ],
      "execution_count": 17,
      "outputs": []
    },
    {
      "cell_type": "markdown",
      "metadata": {
        "id": "ghMTepb6IMd8"
      },
      "source": [
        "#Reading Dataset"
      ]
    },
    {
      "cell_type": "code",
      "metadata": {
        "id": "Hp5R0Qo15-aa"
      },
      "source": [
        "df = pd.read_csv(\"https://raw.githubusercontent.com/gauravpks/ml-repo/master/IndustrialSafetyDS/industrial_safety.csv\")"
      ],
      "execution_count": 3,
      "outputs": []
    },
    {
      "cell_type": "code",
      "metadata": {
        "id": "qjxaTc2gA_AP",
        "outputId": "8552a801-e9fd-4ab2-8258-0c84ea2117d0",
        "colab": {
          "base_uri": "https://localhost:8080/",
          "height": 210
        }
      },
      "source": [
        "df.head(3)"
      ],
      "execution_count": null,
      "outputs": [
        {
          "output_type": "execute_result",
          "data": {
            "text/html": [
              "<div>\n",
              "<style scoped>\n",
              "    .dataframe tbody tr th:only-of-type {\n",
              "        vertical-align: middle;\n",
              "    }\n",
              "\n",
              "    .dataframe tbody tr th {\n",
              "        vertical-align: top;\n",
              "    }\n",
              "\n",
              "    .dataframe thead th {\n",
              "        text-align: right;\n",
              "    }\n",
              "</style>\n",
              "<table border=\"1\" class=\"dataframe\">\n",
              "  <thead>\n",
              "    <tr style=\"text-align: right;\">\n",
              "      <th></th>\n",
              "      <th>Data</th>\n",
              "      <th>Countries</th>\n",
              "      <th>Local</th>\n",
              "      <th>Industry Sector</th>\n",
              "      <th>Accident Level</th>\n",
              "      <th>Potential Accident Level</th>\n",
              "      <th>Gender</th>\n",
              "      <th>Employee or Third Party</th>\n",
              "      <th>Critical Risk</th>\n",
              "      <th>Description</th>\n",
              "    </tr>\n",
              "  </thead>\n",
              "  <tbody>\n",
              "    <tr>\n",
              "      <th>0</th>\n",
              "      <td>01-01-2016 00:00</td>\n",
              "      <td>United States</td>\n",
              "      <td>West Virginia</td>\n",
              "      <td>Mining</td>\n",
              "      <td>I</td>\n",
              "      <td>IV</td>\n",
              "      <td>Male</td>\n",
              "      <td>Third Party</td>\n",
              "      <td>Pressed</td>\n",
              "      <td>While removing the drill rod of the Jumbo 08 f...</td>\n",
              "    </tr>\n",
              "    <tr>\n",
              "      <th>1</th>\n",
              "      <td>02-01-2016 00:00</td>\n",
              "      <td>Canada</td>\n",
              "      <td>Alberta</td>\n",
              "      <td>Mining</td>\n",
              "      <td>I</td>\n",
              "      <td>IV</td>\n",
              "      <td>Male</td>\n",
              "      <td>Employee</td>\n",
              "      <td>Pressurized Systems</td>\n",
              "      <td>During the activation of a sodium sulphide pum...</td>\n",
              "    </tr>\n",
              "    <tr>\n",
              "      <th>2</th>\n",
              "      <td>06-01-2016 00:00</td>\n",
              "      <td>United States</td>\n",
              "      <td>Kentucky</td>\n",
              "      <td>Mining</td>\n",
              "      <td>I</td>\n",
              "      <td>III</td>\n",
              "      <td>Male</td>\n",
              "      <td>Third Party (Remote)</td>\n",
              "      <td>Manual Tools</td>\n",
              "      <td>In the sub-station MILPO located at level +170...</td>\n",
              "    </tr>\n",
              "  </tbody>\n",
              "</table>\n",
              "</div>"
            ],
            "text/plain": [
              "               Data  ...                                        Description\n",
              "0  01-01-2016 00:00  ...  While removing the drill rod of the Jumbo 08 f...\n",
              "1  02-01-2016 00:00  ...  During the activation of a sodium sulphide pum...\n",
              "2  06-01-2016 00:00  ...  In the sub-station MILPO located at level +170...\n",
              "\n",
              "[3 rows x 10 columns]"
            ]
          },
          "metadata": {
            "tags": []
          },
          "execution_count": 4
        }
      ]
    },
    {
      "cell_type": "code",
      "metadata": {
        "id": "Rmniou0aIr12",
        "outputId": "b8097f0e-633c-4d23-a409-031cb4985801",
        "colab": {
          "base_uri": "https://localhost:8080/",
          "height": 306
        }
      },
      "source": [
        "df.info()"
      ],
      "execution_count": null,
      "outputs": [
        {
          "output_type": "stream",
          "text": [
            "<class 'pandas.core.frame.DataFrame'>\n",
            "RangeIndex: 424 entries, 0 to 423\n",
            "Data columns (total 10 columns):\n",
            " #   Column                    Non-Null Count  Dtype \n",
            "---  ------                    --------------  ----- \n",
            " 0   Data                      424 non-null    object\n",
            " 1   Countries                 424 non-null    object\n",
            " 2   Local                     424 non-null    object\n",
            " 3   Industry Sector           424 non-null    object\n",
            " 4   Accident Level            424 non-null    object\n",
            " 5   Potential Accident Level  424 non-null    object\n",
            " 6   Gender                    424 non-null    object\n",
            " 7   Employee or Third Party   424 non-null    object\n",
            " 8   Critical Risk             424 non-null    object\n",
            " 9   Description               424 non-null    object\n",
            "dtypes: object(10)\n",
            "memory usage: 33.2+ KB\n"
          ],
          "name": "stdout"
        }
      ]
    },
    {
      "cell_type": "code",
      "metadata": {
        "id": "-7aqqp9GHrxA",
        "outputId": "7c23578b-a71e-4032-89fa-976df05c24f2",
        "colab": {
          "base_uri": "https://localhost:8080/",
          "height": 210
        }
      },
      "source": [
        "df.rename(columns={'Data':'Date', 'Countries':'Country', 'Employee or Third Party':'Employee Type'}, inplace=True)\n",
        "df.head(3)"
      ],
      "execution_count": 4,
      "outputs": [
        {
          "output_type": "execute_result",
          "data": {
            "text/html": [
              "<div>\n",
              "<style scoped>\n",
              "    .dataframe tbody tr th:only-of-type {\n",
              "        vertical-align: middle;\n",
              "    }\n",
              "\n",
              "    .dataframe tbody tr th {\n",
              "        vertical-align: top;\n",
              "    }\n",
              "\n",
              "    .dataframe thead th {\n",
              "        text-align: right;\n",
              "    }\n",
              "</style>\n",
              "<table border=\"1\" class=\"dataframe\">\n",
              "  <thead>\n",
              "    <tr style=\"text-align: right;\">\n",
              "      <th></th>\n",
              "      <th>Date</th>\n",
              "      <th>Country</th>\n",
              "      <th>Local</th>\n",
              "      <th>Industry Sector</th>\n",
              "      <th>Accident Level</th>\n",
              "      <th>Potential Accident Level</th>\n",
              "      <th>Gender</th>\n",
              "      <th>Employee Type</th>\n",
              "      <th>Critical Risk</th>\n",
              "      <th>Description</th>\n",
              "    </tr>\n",
              "  </thead>\n",
              "  <tbody>\n",
              "    <tr>\n",
              "      <th>0</th>\n",
              "      <td>01-01-2016 00:00</td>\n",
              "      <td>United States</td>\n",
              "      <td>West Virginia</td>\n",
              "      <td>Mining</td>\n",
              "      <td>I</td>\n",
              "      <td>IV</td>\n",
              "      <td>Male</td>\n",
              "      <td>Third Party</td>\n",
              "      <td>Pressed</td>\n",
              "      <td>While removing the drill rod of the Jumbo 08 f...</td>\n",
              "    </tr>\n",
              "    <tr>\n",
              "      <th>1</th>\n",
              "      <td>02-01-2016 00:00</td>\n",
              "      <td>Canada</td>\n",
              "      <td>Alberta</td>\n",
              "      <td>Mining</td>\n",
              "      <td>I</td>\n",
              "      <td>IV</td>\n",
              "      <td>Male</td>\n",
              "      <td>Employee</td>\n",
              "      <td>Pressurized Systems</td>\n",
              "      <td>During the activation of a sodium sulphide pum...</td>\n",
              "    </tr>\n",
              "    <tr>\n",
              "      <th>2</th>\n",
              "      <td>06-01-2016 00:00</td>\n",
              "      <td>United States</td>\n",
              "      <td>Kentucky</td>\n",
              "      <td>Mining</td>\n",
              "      <td>I</td>\n",
              "      <td>III</td>\n",
              "      <td>Male</td>\n",
              "      <td>Third Party (Remote)</td>\n",
              "      <td>Manual Tools</td>\n",
              "      <td>In the sub-station MILPO located at level +170...</td>\n",
              "    </tr>\n",
              "  </tbody>\n",
              "</table>\n",
              "</div>"
            ],
            "text/plain": [
              "               Date  ...                                        Description\n",
              "0  01-01-2016 00:00  ...  While removing the drill rod of the Jumbo 08 f...\n",
              "1  02-01-2016 00:00  ...  During the activation of a sodium sulphide pum...\n",
              "2  06-01-2016 00:00  ...  In the sub-station MILPO located at level +170...\n",
              "\n",
              "[3 rows x 10 columns]"
            ]
          },
          "metadata": {
            "tags": []
          },
          "execution_count": 4
        }
      ]
    },
    {
      "cell_type": "markdown",
      "metadata": {
        "id": "M9j_rS_yIJH8"
      },
      "source": [
        "#Pre-Processing "
      ]
    },
    {
      "cell_type": "markdown",
      "metadata": {
        "id": "xLTwEQftICx7"
      },
      "source": [
        "Adding datetime features such as year,month and day"
      ]
    },
    {
      "cell_type": "code",
      "metadata": {
        "id": "0M0SiGfJIHtn",
        "outputId": "5f3b3b94-ab09-4721-dd0e-ff8da38aeb3e",
        "colab": {
          "base_uri": "https://localhost:8080/",
          "height": 227
        }
      },
      "source": [
        "df['Date'] = pd.to_datetime(df['Date'])\n",
        "df['Year'] = df['Date'].apply(lambda x : x.year)\n",
        "df['Month'] = df['Date'].apply(lambda x : x.month)\n",
        "df['Day'] = df['Date'].apply(lambda x : x.day)\n",
        "df['Weekday'] = df['Date'].apply(lambda x : x.day_name())\n",
        "df['WeekofYear'] = df['Date'].apply(lambda x : x.weekofyear)\n",
        "df.head(3)"
      ],
      "execution_count": 5,
      "outputs": [
        {
          "output_type": "execute_result",
          "data": {
            "text/html": [
              "<div>\n",
              "<style scoped>\n",
              "    .dataframe tbody tr th:only-of-type {\n",
              "        vertical-align: middle;\n",
              "    }\n",
              "\n",
              "    .dataframe tbody tr th {\n",
              "        vertical-align: top;\n",
              "    }\n",
              "\n",
              "    .dataframe thead th {\n",
              "        text-align: right;\n",
              "    }\n",
              "</style>\n",
              "<table border=\"1\" class=\"dataframe\">\n",
              "  <thead>\n",
              "    <tr style=\"text-align: right;\">\n",
              "      <th></th>\n",
              "      <th>Date</th>\n",
              "      <th>Country</th>\n",
              "      <th>Local</th>\n",
              "      <th>Industry Sector</th>\n",
              "      <th>Accident Level</th>\n",
              "      <th>Potential Accident Level</th>\n",
              "      <th>Gender</th>\n",
              "      <th>Employee Type</th>\n",
              "      <th>Critical Risk</th>\n",
              "      <th>Description</th>\n",
              "      <th>Year</th>\n",
              "      <th>Month</th>\n",
              "      <th>Day</th>\n",
              "      <th>Weekday</th>\n",
              "      <th>WeekofYear</th>\n",
              "    </tr>\n",
              "  </thead>\n",
              "  <tbody>\n",
              "    <tr>\n",
              "      <th>0</th>\n",
              "      <td>2016-01-01</td>\n",
              "      <td>United States</td>\n",
              "      <td>West Virginia</td>\n",
              "      <td>Mining</td>\n",
              "      <td>I</td>\n",
              "      <td>IV</td>\n",
              "      <td>Male</td>\n",
              "      <td>Third Party</td>\n",
              "      <td>Pressed</td>\n",
              "      <td>While removing the drill rod of the Jumbo 08 f...</td>\n",
              "      <td>2016</td>\n",
              "      <td>1</td>\n",
              "      <td>1</td>\n",
              "      <td>Friday</td>\n",
              "      <td>53</td>\n",
              "    </tr>\n",
              "    <tr>\n",
              "      <th>1</th>\n",
              "      <td>2016-02-01</td>\n",
              "      <td>Canada</td>\n",
              "      <td>Alberta</td>\n",
              "      <td>Mining</td>\n",
              "      <td>I</td>\n",
              "      <td>IV</td>\n",
              "      <td>Male</td>\n",
              "      <td>Employee</td>\n",
              "      <td>Pressurized Systems</td>\n",
              "      <td>During the activation of a sodium sulphide pum...</td>\n",
              "      <td>2016</td>\n",
              "      <td>2</td>\n",
              "      <td>1</td>\n",
              "      <td>Monday</td>\n",
              "      <td>5</td>\n",
              "    </tr>\n",
              "    <tr>\n",
              "      <th>2</th>\n",
              "      <td>2016-06-01</td>\n",
              "      <td>United States</td>\n",
              "      <td>Kentucky</td>\n",
              "      <td>Mining</td>\n",
              "      <td>I</td>\n",
              "      <td>III</td>\n",
              "      <td>Male</td>\n",
              "      <td>Third Party (Remote)</td>\n",
              "      <td>Manual Tools</td>\n",
              "      <td>In the sub-station MILPO located at level +170...</td>\n",
              "      <td>2016</td>\n",
              "      <td>6</td>\n",
              "      <td>1</td>\n",
              "      <td>Wednesday</td>\n",
              "      <td>22</td>\n",
              "    </tr>\n",
              "  </tbody>\n",
              "</table>\n",
              "</div>"
            ],
            "text/plain": [
              "        Date         Country          Local  ... Day    Weekday WeekofYear\n",
              "0 2016-01-01  United States   West Virginia  ...   1     Friday         53\n",
              "1 2016-02-01          Canada        Alberta  ...   1     Monday          5\n",
              "2 2016-06-01  United States        Kentucky  ...   1  Wednesday         22\n",
              "\n",
              "[3 rows x 15 columns]"
            ]
          },
          "metadata": {
            "tags": []
          },
          "execution_count": 5
        }
      ]
    },
    {
      "cell_type": "code",
      "metadata": {
        "id": "O9fadmLvI2Vg",
        "outputId": "3c8bf618-c5c2-4b9a-8a5d-1febfd760f7f",
        "colab": {
          "base_uri": "https://localhost:8080/",
          "height": 391
        }
      },
      "source": [
        "df.info()"
      ],
      "execution_count": null,
      "outputs": [
        {
          "output_type": "stream",
          "text": [
            "<class 'pandas.core.frame.DataFrame'>\n",
            "RangeIndex: 424 entries, 0 to 423\n",
            "Data columns (total 15 columns):\n",
            " #   Column                    Non-Null Count  Dtype         \n",
            "---  ------                    --------------  -----         \n",
            " 0   Date                      424 non-null    datetime64[ns]\n",
            " 1   Country                   424 non-null    object        \n",
            " 2   Local                     424 non-null    object        \n",
            " 3   Industry Sector           424 non-null    object        \n",
            " 4   Accident Level            424 non-null    object        \n",
            " 5   Potential Accident Level  424 non-null    object        \n",
            " 6   Gender                    424 non-null    object        \n",
            " 7   Employee Type             424 non-null    object        \n",
            " 8   Critical Risk             424 non-null    object        \n",
            " 9   Description               424 non-null    object        \n",
            " 10  Year                      424 non-null    int64         \n",
            " 11  Month                     424 non-null    int64         \n",
            " 12  Day                       424 non-null    int64         \n",
            " 13  Weekday                   424 non-null    object        \n",
            " 14  WeekofYear                424 non-null    int64         \n",
            "dtypes: datetime64[ns](1), int64(4), object(10)\n",
            "memory usage: 49.8+ KB\n"
          ],
          "name": "stdout"
        }
      ]
    },
    {
      "cell_type": "markdown",
      "metadata": {
        "id": "9pDyoq6HJpNF"
      },
      "source": [
        "Accordin to this discussion, countries are from North America. \n",
        "As per knowledge there are four climatological seasons as below.\n",
        "Spring : September to November\n",
        "Summer : December to February\n",
        "Autumn : March to May\n",
        "Winter : June to August\n",
        "We can create seasonal variable based on month variable."
      ]
    },
    {
      "cell_type": "code",
      "metadata": {
        "id": "ojoGgu6JI3Rj"
      },
      "source": [
        "def month2seasons(x):\n",
        "    if x in [9, 10, 11]:\n",
        "        season = 'Spring'\n",
        "    elif x in [12, 1, 2]:\n",
        "        season = 'Summer'\n",
        "    elif x in [3, 4, 5]:\n",
        "        season = 'Autumn'\n",
        "    elif x in [6, 7, 8]:\n",
        "        season = 'Winter'\n",
        "    return season"
      ],
      "execution_count": 6,
      "outputs": []
    },
    {
      "cell_type": "code",
      "metadata": {
        "id": "-7JmIqvxKHeQ",
        "outputId": "1f025812-23de-4b0d-970e-edec6f189481",
        "colab": {
          "base_uri": "https://localhost:8080/",
          "height": 278
        }
      },
      "source": [
        "df['Season'] = df['Month'].apply(month2seasons)\n",
        "df.head(3)"
      ],
      "execution_count": 7,
      "outputs": [
        {
          "output_type": "execute_result",
          "data": {
            "text/html": [
              "<div>\n",
              "<style scoped>\n",
              "    .dataframe tbody tr th:only-of-type {\n",
              "        vertical-align: middle;\n",
              "    }\n",
              "\n",
              "    .dataframe tbody tr th {\n",
              "        vertical-align: top;\n",
              "    }\n",
              "\n",
              "    .dataframe thead th {\n",
              "        text-align: right;\n",
              "    }\n",
              "</style>\n",
              "<table border=\"1\" class=\"dataframe\">\n",
              "  <thead>\n",
              "    <tr style=\"text-align: right;\">\n",
              "      <th></th>\n",
              "      <th>Date</th>\n",
              "      <th>Country</th>\n",
              "      <th>Local</th>\n",
              "      <th>Industry Sector</th>\n",
              "      <th>Accident Level</th>\n",
              "      <th>Potential Accident Level</th>\n",
              "      <th>Gender</th>\n",
              "      <th>Employee Type</th>\n",
              "      <th>Critical Risk</th>\n",
              "      <th>Description</th>\n",
              "      <th>Year</th>\n",
              "      <th>Month</th>\n",
              "      <th>Day</th>\n",
              "      <th>Weekday</th>\n",
              "      <th>WeekofYear</th>\n",
              "      <th>Season</th>\n",
              "    </tr>\n",
              "  </thead>\n",
              "  <tbody>\n",
              "    <tr>\n",
              "      <th>0</th>\n",
              "      <td>2016-01-01</td>\n",
              "      <td>United States</td>\n",
              "      <td>West Virginia</td>\n",
              "      <td>Mining</td>\n",
              "      <td>I</td>\n",
              "      <td>IV</td>\n",
              "      <td>Male</td>\n",
              "      <td>Third Party</td>\n",
              "      <td>Pressed</td>\n",
              "      <td>While removing the drill rod of the Jumbo 08 f...</td>\n",
              "      <td>2016</td>\n",
              "      <td>1</td>\n",
              "      <td>1</td>\n",
              "      <td>Friday</td>\n",
              "      <td>53</td>\n",
              "      <td>Summer</td>\n",
              "    </tr>\n",
              "    <tr>\n",
              "      <th>1</th>\n",
              "      <td>2016-02-01</td>\n",
              "      <td>Canada</td>\n",
              "      <td>Alberta</td>\n",
              "      <td>Mining</td>\n",
              "      <td>I</td>\n",
              "      <td>IV</td>\n",
              "      <td>Male</td>\n",
              "      <td>Employee</td>\n",
              "      <td>Pressurized Systems</td>\n",
              "      <td>During the activation of a sodium sulphide pum...</td>\n",
              "      <td>2016</td>\n",
              "      <td>2</td>\n",
              "      <td>1</td>\n",
              "      <td>Monday</td>\n",
              "      <td>5</td>\n",
              "      <td>Summer</td>\n",
              "    </tr>\n",
              "    <tr>\n",
              "      <th>2</th>\n",
              "      <td>2016-06-01</td>\n",
              "      <td>United States</td>\n",
              "      <td>Kentucky</td>\n",
              "      <td>Mining</td>\n",
              "      <td>I</td>\n",
              "      <td>III</td>\n",
              "      <td>Male</td>\n",
              "      <td>Third Party (Remote)</td>\n",
              "      <td>Manual Tools</td>\n",
              "      <td>In the sub-station MILPO located at level +170...</td>\n",
              "      <td>2016</td>\n",
              "      <td>6</td>\n",
              "      <td>1</td>\n",
              "      <td>Wednesday</td>\n",
              "      <td>22</td>\n",
              "      <td>Winter</td>\n",
              "    </tr>\n",
              "  </tbody>\n",
              "</table>\n",
              "</div>"
            ],
            "text/plain": [
              "        Date         Country          Local  ...    Weekday WeekofYear  Season\n",
              "0 2016-01-01  United States   West Virginia  ...     Friday         53  Summer\n",
              "1 2016-02-01          Canada        Alberta  ...     Monday          5  Summer\n",
              "2 2016-06-01  United States        Kentucky  ...  Wednesday         22  Winter\n",
              "\n",
              "[3 rows x 16 columns]"
            ]
          },
          "metadata": {
            "tags": []
          },
          "execution_count": 7
        }
      ]
    },
    {
      "cell_type": "markdown",
      "metadata": {
        "id": "Jjwj1cpbYN1L"
      },
      "source": [
        "#Exploratory Data Analysis"
      ]
    },
    {
      "cell_type": "markdown",
      "metadata": {
        "id": "sUoKB5Kxe2qO"
      },
      "source": [
        "\n",
        "\n",
        "---\n",
        "Univariate Analysis\n",
        "\n",
        "\n",
        "---\n",
        "\n",
        "\n",
        "\n"
      ]
    },
    {
      "cell_type": "markdown",
      "metadata": {
        "id": "6roRdrdo5A8Y"
      },
      "source": [
        "**Accident by Country**"
      ]
    },
    {
      "cell_type": "code",
      "metadata": {
        "id": "v-6IgDasZjtE",
        "outputId": "cf129021-c4ae-4dff-8668-e44739875ae0",
        "colab": {
          "base_uri": "https://localhost:8080/",
          "height": 85
        }
      },
      "source": [
        "df['Country'].value_counts()"
      ],
      "execution_count": null,
      "outputs": [
        {
          "output_type": "execute_result",
          "data": {
            "text/plain": [
              "United States     251\n",
              "Canada            129\n",
              "Mexico             44\n",
              "Name: Country, dtype: int64"
            ]
          },
          "metadata": {
            "tags": []
          },
          "execution_count": 67
        }
      ]
    },
    {
      "cell_type": "code",
      "metadata": {
        "id": "w-SULuNYZcDw",
        "outputId": "dc631ac3-f211-439e-a020-cbf99a8bff93",
        "colab": {
          "base_uri": "https://localhost:8080/",
          "height": 85
        }
      },
      "source": [
        "country_cnt =np.round((df['Country'].value_counts(normalize=True)* 100 ))\n",
        "country_cnt"
      ],
      "execution_count": null,
      "outputs": [
        {
          "output_type": "execute_result",
          "data": {
            "text/plain": [
              "United States     59.0\n",
              "Canada            30.0\n",
              "Mexico            10.0\n",
              "Name: Country, dtype: float64"
            ]
          },
          "metadata": {
            "tags": []
          },
          "execution_count": 71
        }
      ]
    },
    {
      "cell_type": "code",
      "metadata": {
        "id": "d0GccMPKal3n",
        "outputId": "770f0fb8-ab89-4ba8-e518-aecd98f4549b",
        "colab": {
          "base_uri": "https://localhost:8080/",
          "height": 34
        }
      },
      "source": [
        "type(country_cnt)"
      ],
      "execution_count": null,
      "outputs": [
        {
          "output_type": "execute_result",
          "data": {
            "text/plain": [
              "pandas.core.series.Series"
            ]
          },
          "metadata": {
            "tags": []
          },
          "execution_count": 58
        }
      ]
    },
    {
      "cell_type": "code",
      "metadata": {
        "id": "aGiylskDc7sQ"
      },
      "source": [
        "percent = country_cnt.to_numpy()\n",
        "country = country_cnt.keys().values\n"
      ],
      "execution_count": null,
      "outputs": []
    },
    {
      "cell_type": "code",
      "metadata": {
        "id": "xV7gwjaicpP7",
        "outputId": "660216ff-fe3f-46da-ee86-1f7a4ec71f04",
        "colab": {
          "base_uri": "https://localhost:8080/",
          "height": 350
        }
      },
      "source": [
        "fig = plt.figure(figsize = (10, 5)) \n",
        "plt.bar(country, percent, color ='red',  \n",
        "        width = 0.4) \n",
        "plt.xlabel(\"Countries\") \n",
        "plt.ylabel(\"% of Accidents\") \n",
        "plt.title(\"Accident Distribution- Country Wise\") \n",
        "plt.show()"
      ],
      "execution_count": null,
      "outputs": [
        {
          "output_type": "display_data",
          "data": {
            "image/png": "[encoded data removed]",
            "text/plain": [
              "<Figure size 720x360 with 1 Axes>"
            ]
          },
          "metadata": {
            "tags": [],
            "needs_background": "light"
          }
        }
      ]
    },
    {
      "cell_type": "markdown",
      "metadata": {
        "id": "V4jHtDiy49co"
      },
      "source": [
        "**Accident By Local**"
      ]
    },
    {
      "cell_type": "code",
      "metadata": {
        "id": "vdLTlBmAY_gs",
        "outputId": "26773c3b-945b-4be9-d0f8-5feab6bf5b41",
        "colab": {
          "base_uri": "https://localhost:8080/",
          "height": 238
        }
      },
      "source": [
        "local_cnt = np.round(df['Local'].value_counts(normalize=True) * 100)\n",
        "local_cnt"
      ],
      "execution_count": null,
      "outputs": [
        {
          "output_type": "execute_result",
          "data": {
            "text/plain": [
              "Kentucky             21.0\n",
              "British Columbia     14.0\n",
              "West Virginia        13.0\n",
              "Illinois             13.0\n",
              "Pennsylvania         11.0\n",
              "Mexico City          10.0\n",
              "Ontario               6.0\n",
              "Alberta               6.0\n",
              "Manitoba              4.0\n",
              "Quebec                1.0\n",
              "Yukon                 1.0\n",
              "Montana               0.0\n",
              "Name: Local, dtype: float64"
            ]
          },
          "metadata": {
            "tags": []
          },
          "execution_count": 16
        }
      ]
    },
    {
      "cell_type": "code",
      "metadata": {
        "id": "PyD7mVjr3_1t",
        "outputId": "5764f890-bd60-4774-959b-10f11dc3be6e",
        "colab": {
          "base_uri": "https://localhost:8080/",
          "height": 350
        }
      },
      "source": [
        "fig = plt.figure(figsize = (18, 5)) \n",
        "plt.bar(local_cnt.keys().values, local_cnt.to_numpy(), color ='yellow', width = 0.4, edgecolor='blue') \n",
        "plt.xlabel(\"Countries\") \n",
        "plt.ylabel(\"% of Accidents\") \n",
        "plt.title(\"Accident Distribution- Local Wise\") \n",
        "plt.show()"
      ],
      "execution_count": null,
      "outputs": [
        {
          "output_type": "display_data",
          "data": {
            "image/png": "[encoded data removed]",
            "text/plain": [
              "<Figure size 1296x360 with 1 Axes>"
            ]
          },
          "metadata": {
            "tags": [],
            "needs_background": "light"
          }
        }
      ]
    },
    {
      "cell_type": "markdown",
      "metadata": {
        "id": "rYgkbTns5Sz4"
      },
      "source": [
        "**Accident By Sector**"
      ]
    },
    {
      "cell_type": "code",
      "metadata": {
        "id": "rhN8WOWO44ue",
        "outputId": "cb00200d-c3c8-4adb-a493-81d0d66d3f27",
        "colab": {
          "base_uri": "https://localhost:8080/",
          "height": 350
        }
      },
      "source": [
        "sector_cnt = np.round(df['Industry Sector'].value_counts(normalize=True) * 100)\n",
        "fig = plt.figure(figsize = (5, 5)) \n",
        "plt.bar(sector_cnt.keys().values, sector_cnt.to_numpy(), color=['red', 'green', 'blue'], width = 0.5) \n",
        "plt.xlabel(\"Countries\") \n",
        "plt.ylabel(\"% of Accidents\") \n",
        "plt.title(\"Accident Distribution- Sector Wise\") \n",
        "plt.show()"
      ],
      "execution_count": null,
      "outputs": [
        {
          "output_type": "display_data",
          "data": {
            "image/png": "[encoded data removed]",
            "text/plain": [
              "<Figure size 360x360 with 1 Axes>"
            ]
          },
          "metadata": {
            "tags": [],
            "needs_background": "light"
          }
        }
      ]
    },
    {
      "cell_type": "markdown",
      "metadata": {
        "id": "uc18xE5_H1O-"
      },
      "source": [
        "**By Accident Level**"
      ]
    },
    {
      "cell_type": "code",
      "metadata": {
        "id": "L94fs8S2Ayy7"
      },
      "source": [
        "ac_level_cnt = np.round(df['Accident Level'].value_counts(normalize=True) * 100)\n",
        "pot_ac_level_cnt = np.round(df['Potential Accident Level'].value_counts(normalize=True) * 100, decimals=1)"
      ],
      "execution_count": 22,
      "outputs": []
    },
    {
      "cell_type": "code",
      "metadata": {
        "id": "NCjO1u53Fz4v",
        "outputId": "d682761b-c847-46bc-a3df-90ad16388fe3",
        "colab": {
          "base_uri": "https://localhost:8080/",
          "height": 119
        }
      },
      "source": [
        "ac_level_cnt"
      ],
      "execution_count": 23,
      "outputs": [
        {
          "output_type": "execute_result",
          "data": {
            "text/plain": [
              "I      74.0\n",
              "II      9.0\n",
              "III     7.0\n",
              "IV      7.0\n",
              "V       2.0\n",
              "Name: Accident Level, dtype: float64"
            ]
          },
          "metadata": {
            "tags": []
          },
          "execution_count": 23
        }
      ]
    },
    {
      "cell_type": "code",
      "metadata": {
        "id": "mPVFCtltF2Ro",
        "outputId": "ec1651ac-f62a-4a98-9589-f690d4811656",
        "colab": {
          "base_uri": "https://localhost:8080/",
          "height": 136
        }
      },
      "source": [
        "pot_ac_level_cnt"
      ],
      "execution_count": 24,
      "outputs": [
        {
          "output_type": "execute_result",
          "data": {
            "text/plain": [
              "IV     33.7\n",
              "III    25.0\n",
              "II     22.2\n",
              "I      11.6\n",
              "V       7.3\n",
              "VI      0.2\n",
              "Name: Potential Accident Level, dtype: float64"
            ]
          },
          "metadata": {
            "tags": []
          },
          "execution_count": 24
        }
      ]
    },
    {
      "cell_type": "code",
      "metadata": {
        "id": "N4MGzVwzAr4c",
        "outputId": "b498bbba-53f3-4f84-892a-2c7bc457f9f9",
        "colab": {
          "base_uri": "https://localhost:8080/",
          "height": 513
        }
      },
      "source": [
        "barWidth = 0.25\n",
        "fig = plt.subplots(figsize =(12, 8)) \n",
        "idx = [3, 2, 1, 0, 4, 5]   \n",
        "# set height of bar \n",
        "ac_cnt = np.append(ac_level_cnt.to_numpy(), 0)\n",
        "pot_cnt = pot_ac_level_cnt.to_numpy()[idx]\n",
        "\n",
        "# Set position of bar on X axis \n",
        "br1 = np.arange(len(ac_cnt)) \n",
        "br2 = [x + barWidth for x in br1] \n",
        "\n",
        "   \n",
        "# Make the plot \n",
        "plt.bar(br1, ac_cnt, color ='orange', width = barWidth, \n",
        "        edgecolor ='grey', label ='Accident Level') \n",
        "plt.bar(br2, pot_cnt, color ='g', width = barWidth, \n",
        "        edgecolor ='grey', label ='Potential Accident Level') \n",
        "\n",
        "   \n",
        "# Adding Xticks  \n",
        "plt.xlabel('Severity Level', fontweight ='bold') \n",
        "plt.ylabel('Percentage', fontweight ='bold') \n",
        "plt.xticks([r + barWidth for r in range(len(br1))], \n",
        "           ac_level_cnt.keys().values) \n",
        "plt.title(\"Accident Comparision\")   \n",
        "plt.show() "
      ],
      "execution_count": 26,
      "outputs": [
        {
          "output_type": "display_data",
          "data": {
            "image/png": "[encoded data removed]",
            "text/plain": [
              "<Figure size 864x576 with 1 Axes>"
            ]
          },
          "metadata": {
            "tags": [],
            "needs_background": "light"
          }
        }
      ]
    },
    {
      "cell_type": "markdown",
      "metadata": {
        "id": "UZo-K2hGHpWT"
      },
      "source": [
        "**Gender Wise**"
      ]
    },
    {
      "cell_type": "code",
      "metadata": {
        "id": "AcrV6ebVBc0d",
        "outputId": "25104534-d74b-4113-98a3-e07b1f7e7504",
        "colab": {
          "base_uri": "https://localhost:8080/",
          "height": 350
        }
      },
      "source": [
        "gender_cnt = np.round(df['Gender'].value_counts(normalize=True) * 100)\n",
        "fig = plt.figure(figsize = (5, 5)) \n",
        "plt.bar(gender_cnt.keys().values, gender_cnt.to_numpy(), color=[ 'green', 'blue'], width = 0.5) \n",
        "plt.xlabel(\"Countries\") \n",
        "plt.ylabel(\"% of Accidents\") \n",
        "plt.title(\"Accident Distribution- Gender Wise\") \n",
        "plt.show()"
      ],
      "execution_count": null,
      "outputs": [
        {
          "output_type": "display_data",
          "data": {
            "image/png": "[encoded data removed]",
            "text/plain": [
              "<Figure size 360x360 with 1 Axes>"
            ]
          },
          "metadata": {
            "tags": [],
            "needs_background": "light"
          }
        }
      ]
    },
    {
      "cell_type": "code",
      "metadata": {
        "id": "ES4HxhpCICbg",
        "outputId": "60322680-80aa-421c-d0d7-eca0808a1b3e",
        "colab": {
          "base_uri": "https://localhost:8080/",
          "height": 350
        }
      },
      "source": [
        "emp_type_cnt = np.round(df['Employee Type'].value_counts(normalize=True) * 100)\n",
        "fig = plt.figure(figsize = (5, 5)) \n",
        "plt.bar(emp_type_cnt.keys().values, emp_type_cnt.to_numpy(), color=[ 'green', 'blue', 'yellow'], width = 0.5) \n",
        "plt.xlabel(\"Countries\") \n",
        "plt.ylabel(\"% of Accidents\") \n",
        "plt.title(\"Accident Distribution- Employee Type Wise\") \n",
        "plt.show()"
      ],
      "execution_count": null,
      "outputs": [
        {
          "output_type": "display_data",
          "data": {
            "image/png": "[encoded data removed]",
            "text/plain": [
              "<Figure size 360x360 with 1 Axes>"
            ]
          },
          "metadata": {
            "tags": [],
            "needs_background": "light"
          }
        }
      ]
    },
    {
      "cell_type": "code",
      "metadata": {
        "id": "spRTfhK0IioD"
      },
      "source": [
        "cr_risk_cnt = np.round(df['Critical Risk'].value_counts(normalize=True) * 100, decimals=2)"
      ],
      "execution_count": 9,
      "outputs": []
    },
    {
      "cell_type": "code",
      "metadata": {
        "id": "Z6Mllb4wIjS6",
        "outputId": "a71c6ce4-4914-48ac-ef5d-dd7e66b90f23",
        "colab": {
          "base_uri": "https://localhost:8080/",
          "height": 555
        }
      },
      "source": [
        "# Figure Size \n",
        "fig, ax = plt.subplots(figsize =(16, 9)) \n",
        "\n",
        "# Horizontal Bar Plot \n",
        "ax.barh( cr_risk_cnt.keys().values, cr_risk_cnt.to_numpy()) \n",
        "# Remove axes splines \n",
        "for s in ['top', 'bottom', 'left', 'right']: \n",
        "\tax.spines[s].set_visible(False) \n",
        "\n",
        "# Remove x, y Ticks \n",
        "ax.xaxis.set_ticks_position('none') \n",
        "ax.yaxis.set_ticks_position('none') \n",
        "\n",
        "# Add padding between axes and labels \n",
        "ax.xaxis.set_tick_params(pad = 5) \n",
        "ax.yaxis.set_tick_params(pad = 10) \n",
        "\n",
        "# Add x, y gridlines \n",
        "ax.grid(b = True, color ='grey', \n",
        "\t\tlinestyle ='-.', linewidth = 0.5, \n",
        "\t\talpha = 0.2) \n",
        "\n",
        "# Show top values \n",
        "ax.invert_yaxis() \n",
        "\n",
        "# Add annotation to bars \n",
        "for i in ax.patches: \n",
        "\tplt.text(i.get_width()+0.2, i.get_y()+0.5, \n",
        "\t\t\tstr(round((i.get_width()), 2)), \n",
        "\t\t\tfontsize = 10, fontweight ='bold', \n",
        "\t\t\tcolor ='grey') \n",
        "\n",
        "# Add Plot Title \n",
        "ax.set_title('Critical Risk Type', \n",
        "\t\t\tloc ='left', ) \n",
        "\n",
        "# Add Text watermark \n",
        "fig.text(0.9, 0.15, 'gauravpks', fontsize = 12, \n",
        "\t\tcolor ='grey', ha ='right', va ='bottom', \n",
        "\t\talpha = 0.7) \n",
        "\n",
        "\n",
        "# Show Plot \n",
        "plt.show() \n"
      ],
      "execution_count": 14,
      "outputs": [
        {
          "output_type": "display_data",
          "data": {
            "image/png": "[encoded data removed]",
            "text/plain": [
              "<Figure size 1152x648 with 1 Axes>"
            ]
          },
          "metadata": {
            "tags": [],
            "needs_background": "light"
          }
        }
      ]
    },
    {
      "cell_type": "code",
      "metadata": {
        "id": "rDNX-N6OI4X8"
      },
      "source": [
        ""
      ],
      "execution_count": null,
      "outputs": []
    }
  ]
}