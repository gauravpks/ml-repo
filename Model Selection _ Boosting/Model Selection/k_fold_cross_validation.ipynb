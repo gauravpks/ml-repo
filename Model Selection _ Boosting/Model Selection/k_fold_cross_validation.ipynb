{
  "nbformat": 4,
  "nbformat_minor": 0,
  "metadata": {
    "colab": {
      "name": "k_fold_cross_validation.ipynb",
      "provenance": [],
      "collapsed_sections": [],
      "toc_visible": true,
      "include_colab_link": true
    },
    "kernelspec": {
      "name": "python3",
      "display_name": "Python 3"
    }
  },
  "cells": [
    {
      "cell_type": "markdown",
      "metadata": {
        "id": "view-in-github",
        "colab_type": "text"
      },
      "source": [
        "<a href=\"https://colab.research.google.com/github/gauravpks/ml-repo/blob/master/Model%20Selection%20_%20Boosting/Model%20Selection/k_fold_cross_validation.ipynb\" target=\"_parent\"><img src=\"https://colab.research.google.com/assets/colab-badge.svg\" alt=\"Open In Colab\"/></a>"
      ]
    },
    {
      "cell_type": "markdown",
      "metadata": {
        "id": "taLo6Q7NxKRE"
      },
      "source": [
        "# k-Fold Cross Validation"
      ]
    },
    {
      "cell_type": "markdown",
      "metadata": {
        "id": "xQ1Zs9MKxXJ1"
      },
      "source": [
        "## Importing the libraries"
      ]
    },
    {
      "cell_type": "code",
      "metadata": {
        "id": "D3x14CwtxcV5"
      },
      "source": [
        "import numpy as np\n",
        "import matplotlib.pyplot as plt\n",
        "import pandas as pd"
      ],
      "execution_count": 1,
      "outputs": []
    },
    {
      "cell_type": "markdown",
      "metadata": {
        "id": "1L1wq9evxg83"
      },
      "source": [
        "## Importing the dataset"
      ]
    },
    {
      "cell_type": "code",
      "metadata": {
        "id": "TMeZ6FKbxkU6"
      },
      "source": [
        "dataset = pd.read_csv('https://raw.githubusercontent.com/gauravpks/ml-repo/master/Part%203%20-%20Classification/Logistic%20Regression/Social_Network_Ads.csv')\n",
        "X = dataset.iloc[:, :-1].values\n",
        "y = dataset.iloc[:, -1].values"
      ],
      "execution_count": 2,
      "outputs": []
    },
    {
      "cell_type": "markdown",
      "metadata": {
        "id": "i3FBTRwzxzl7"
      },
      "source": [
        "## Splitting the dataset into the Training set and Test set"
      ]
    },
    {
      "cell_type": "code",
      "metadata": {
        "id": "V5TZ-0qSx5mX"
      },
      "source": [
        "from sklearn.model_selection import train_test_split\n",
        "X_train, X_test, y_train, y_test = train_test_split(X, y, test_size = 0.25, random_state = 0)"
      ],
      "execution_count": 3,
      "outputs": []
    },
    {
      "cell_type": "markdown",
      "metadata": {
        "id": "WPt8zMSIxrJ7"
      },
      "source": [
        "## Feature Scaling"
      ]
    },
    {
      "cell_type": "code",
      "metadata": {
        "id": "c60y-wPDxvY-"
      },
      "source": [
        "from sklearn.preprocessing import StandardScaler\n",
        "sc = StandardScaler()\n",
        "X_train = sc.fit_transform(X_train)\n",
        "X_test = sc.transform(X_test)"
      ],
      "execution_count": 4,
      "outputs": []
    },
    {
      "cell_type": "markdown",
      "metadata": {
        "id": "29ry3GSGx9P_"
      },
      "source": [
        "## Training the Kernel SVM model on the Training set"
      ]
    },
    {
      "cell_type": "code",
      "metadata": {
        "id": "BUM0MSyGyCjF",
        "colab": {
          "base_uri": "https://localhost:8080/"
        },
        "outputId": "58c74f6a-357b-4fb0-b6b3-c63c8f6f2e18"
      },
      "source": [
        "from sklearn.svm import SVC\n",
        "classifier = SVC(kernel = 'rbf', random_state = 0)\n",
        "classifier.fit(X_train, y_train)"
      ],
      "execution_count": 5,
      "outputs": [
        {
          "output_type": "execute_result",
          "data": {
            "text/plain": [
              "SVC(C=1.0, break_ties=False, cache_size=200, class_weight=None, coef0=0.0,\n",
              "    decision_function_shape='ovr', degree=3, gamma='scale', kernel='rbf',\n",
              "    max_iter=-1, probability=False, random_state=0, shrinking=True, tol=0.001,\n",
              "    verbose=False)"
            ]
          },
          "metadata": {
            "tags": []
          },
          "execution_count": 5
        }
      ]
    },
    {
      "cell_type": "markdown",
      "metadata": {
        "id": "fBbur5RQyTcL"
      },
      "source": [
        "## Making the Confusion Matrix"
      ]
    },
    {
      "cell_type": "code",
      "metadata": {
        "id": "_1llVHNPyWkZ",
        "colab": {
          "base_uri": "https://localhost:8080/"
        },
        "outputId": "6d316442-53b3-4dbf-d456-616c57f2d1c9"
      },
      "source": [
        "from sklearn.metrics import confusion_matrix, accuracy_score\n",
        "y_pred = classifier.predict(X_test)\n",
        "cm = confusion_matrix(y_test, y_pred)\n",
        "print(cm)\n",
        "accuracy_score(y_test, y_pred)"
      ],
      "execution_count": 6,
      "outputs": [
        {
          "output_type": "stream",
          "text": [
            "[[64  4]\n",
            " [ 3 29]]\n"
          ],
          "name": "stdout"
        },
        {
          "output_type": "execute_result",
          "data": {
            "text/plain": [
              "0.93"
            ]
          },
          "metadata": {
            "tags": []
          },
          "execution_count": 6
        }
      ]
    },
    {
      "cell_type": "markdown",
      "metadata": {
        "id": "U-eGh0nuyabx"
      },
      "source": [
        "## Applying k-Fold Cross Validation"
      ]
    },
    {
      "cell_type": "markdown",
      "metadata": {
        "id": "pT3uDvfXq7jU"
      },
      "source": [
        "![image.png](data:image/png;base64,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)"
      ]
    },
    {
      "cell_type": "code",
      "metadata": {
        "id": "N5puHSW9ydyi",
        "colab": {
          "base_uri": "https://localhost:8080/"
        },
        "outputId": "090e13ae-3078-4957-f239-8190843b95f2"
      },
      "source": [
        "from sklearn.model_selection import cross_val_score\n",
        "accuracies = cross_val_score(estimator = classifier, X = X_train, y = y_train, cv = 10)\n",
        "print(\"Accuracy: {:.2f} %\".format(accuracies.mean()*100))\n",
        "print(\"Standard Deviation: {:.2f} %\".format(accuracies.std()*100))"
      ],
      "execution_count": 8,
      "outputs": [
        {
          "output_type": "stream",
          "text": [
            "Accuracy: 90.33 %\n",
            "Standard Deviation: 6.57 %\n"
          ],
          "name": "stdout"
        }
      ]
    },
    {
      "cell_type": "markdown",
      "metadata": {
        "id": "M6HUu8z8ygbT"
      },
      "source": [
        "## Visualising the Training set results"
      ]
    },
    {
      "cell_type": "code",
      "metadata": {
        "id": "wkjkHN6Qykw3",
        "colab": {
          "base_uri": "https://localhost:8080/",
          "height": 349
        },
        "outputId": "58bb9e62-9b2b-49cc-9055-ca1ef7fd162d"
      },
      "source": [
        "from matplotlib.colors import ListedColormap\n",
        "X_set, y_set = X_train, y_train\n",
        "X1, X2 = np.meshgrid(np.arange(start = X_set[:, 0].min() - 1, stop = X_set[:, 0].max() + 1, step = 0.01),\n",
        "                     np.arange(start = X_set[:, 1].min() - 1, stop = X_set[:, 1].max() + 1, step = 0.01))\n",
        "plt.contourf(X1, X2, classifier.predict(np.array([X1.ravel(), X2.ravel()]).T).reshape(X1.shape),\n",
        "             alpha = 0.75, cmap = ListedColormap(('red', 'green')))\n",
        "plt.xlim(X1.min(), X1.max())\n",
        "plt.ylim(X2.min(), X2.max())\n",
        "for i, j in enumerate(np.unique(y_set)):\n",
        "    plt.scatter(X_set[y_set == j, 0], X_set[y_set == j, 1],\n",
        "                c = ListedColormap(('red', 'green'))(i), label = j)\n",
        "plt.title('Kernel SVM (Training set)')\n",
        "plt.xlabel('Age')\n",
        "plt.ylabel('Estimated Salary')\n",
        "plt.legend()\n",
        "plt.show()"
      ],
      "execution_count": 9,
      "outputs": [
        {
          "output_type": "stream",
          "text": [
            "*c* argument looks like a single numeric RGB or RGBA sequence, which should be avoided as value-mapping will have precedence in case its length matches with *x* & *y*.  Please use the *color* keyword-argument or provide a 2-D array with a single row if you intend to specify the same RGB or RGBA value for all points.\n",
            "*c* argument looks like a single numeric RGB or RGBA sequence, which should be avoided as value-mapping will have precedence in case its length matches with *x* & *y*.  Please use the *color* keyword-argument or provide a 2-D array with a single row if you intend to specify the same RGB or RGBA value for all points.\n"
          ],
          "name": "stderr"
        },
        {
          "output_type": "display_data",
          "data": {
            "image/png": "[encoded data removed]",
            "text/plain": [
              "<Figure size 432x288 with 1 Axes>"
            ]
          },
          "metadata": {
            "tags": [],
            "needs_background": "light"
          }
        }
      ]
    },
    {
      "cell_type": "markdown",
      "metadata": {
        "id": "9rLgiI19yn8m"
      },
      "source": [
        "## Visualising the Test set results"
      ]
    },
    {
      "cell_type": "code",
      "metadata": {
        "id": "PSuas5JgyrpC",
        "colab": {
          "base_uri": "https://localhost:8080/",
          "height": 349
        },
        "outputId": "feeee904-d155-470e-d7f1-f8d0910f421e"
      },
      "source": [
        "from matplotlib.colors import ListedColormap\n",
        "X_set, y_set = X_test, y_test\n",
        "X1, X2 = np.meshgrid(np.arange(start = X_set[:, 0].min() - 1, stop = X_set[:, 0].max() + 1, step = 0.01),\n",
        "                     np.arange(start = X_set[:, 1].min() - 1, stop = X_set[:, 1].max() + 1, step = 0.01))\n",
        "plt.contourf(X1, X2, classifier.predict(np.array([X1.ravel(), X2.ravel()]).T).reshape(X1.shape),\n",
        "             alpha = 0.75, cmap = ListedColormap(('red', 'green')))\n",
        "plt.xlim(X1.min(), X1.max())\n",
        "plt.ylim(X2.min(), X2.max())\n",
        "for i, j in enumerate(np.unique(y_set)):\n",
        "    plt.scatter(X_set[y_set == j, 0], X_set[y_set == j, 1],\n",
        "                c = ListedColormap(('red', 'green'))(i), label = j)\n",
        "plt.title('Kernel SVM (Test set)')\n",
        "plt.xlabel('Age')\n",
        "plt.ylabel('Estimated Salary')\n",
        "plt.legend()\n",
        "plt.show()"
      ],
      "execution_count": 10,
      "outputs": [
        {
          "output_type": "stream",
          "text": [
            "*c* argument looks like a single numeric RGB or RGBA sequence, which should be avoided as value-mapping will have precedence in case its length matches with *x* & *y*.  Please use the *color* keyword-argument or provide a 2-D array with a single row if you intend to specify the same RGB or RGBA value for all points.\n",
            "*c* argument looks like a single numeric RGB or RGBA sequence, which should be avoided as value-mapping will have precedence in case its length matches with *x* & *y*.  Please use the *color* keyword-argument or provide a 2-D array with a single row if you intend to specify the same RGB or RGBA value for all points.\n"
          ],
          "name": "stderr"
        },
        {
          "output_type": "display_data",
          "data": {
            "image/png": "[encoded data removed]",
            "text/plain": [
              "<Figure size 432x288 with 1 Axes>"
            ]
          },
          "metadata": {
            "tags": [],
            "needs_background": "light"
          }
        }
      ]
    }
  ]
}